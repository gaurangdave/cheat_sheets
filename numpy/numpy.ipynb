{
 "cells": [
  {
   "cell_type": "markdown",
   "metadata": {
    "editable": true,
    "slideshow": {
     "slide_type": ""
    },
    "tags": []
   },
   "source": [
    "# Numpy Cheat Sheet"
   ]
  },
  {
   "cell_type": "markdown",
   "metadata": {},
   "source": [
    "## Introduction"
   ]
  },
  {
   "cell_type": "markdown",
   "metadata": {},
   "source": [
    "This notebook has various shortcuts, tips/tricks that I think might come in handy for various data science projects. "
   ]
  },
  {
   "cell_type": "markdown",
   "metadata": {},
   "source": [
    "### What Is Numpy?\n",
    "NumPy is a powerful numerical computing library for Python. It provides support for arrays, matrices, and many mathematical functions to operate on these data structures.\n"
   ]
  },
  {
   "cell_type": "markdown",
   "metadata": {},
   "source": [
    "### Installation"
   ]
  },
  {
   "cell_type": "markdown",
   "metadata": {},
   "source": [
    "* To install NumPy, using `pip`:\n",
    "\n",
    "```bash\n",
    "pip install numpy\n",
    "```\n",
    "\n",
    "* To install NumPy, using `conda`:\n",
    "\n",
    "```bash\n",
    "conda install numpy\n",
    "```\n",
    "\n",
    "* To install NumPy using poetry:\n",
    "\n",
    "```bash\n",
    "poetry add numpy\n",
    "```"
   ]
  },
  {
   "cell_type": "markdown",
   "metadata": {},
   "source": [
    "### Importing NumPy\n",
    "\n",
    "```python\n",
    "import numpy as np\n",
    "```"
   ]
  },
  {
   "cell_type": "code",
   "execution_count": 1,
   "metadata": {},
   "outputs": [],
   "source": [
    "## import packages\n",
    "import numpy as np"
   ]
  },
  {
   "cell_type": "markdown",
   "metadata": {},
   "source": [
    "## Basics"
   ]
  },
  {
   "cell_type": "markdown",
   "metadata": {},
   "source": [
    "* In NumPy, arrays can be used to represent both vectors and matrices. \n",
    "     * A vector is simply a one-dimensional array.\n",
    "     * A matrix is a two-dimensional array."
   ]
  },
  {
   "cell_type": "markdown",
   "metadata": {},
   "source": [
    "### Creating Arrays"
   ]
  },
  {
   "cell_type": "markdown",
   "metadata": {},
   "source": [
    "* The code below creates the following `Vector`"
   ]
  },
  {
   "cell_type": "markdown",
   "metadata": {
    "vscode": {
     "languageId": "latex"
    }
   },
   "source": [
    "$$\n",
    "\\text{Vector} = \\begin{bmatrix} \n",
    "1 & 2 & 3 & 4 & 5\n",
    "\\end{bmatrix}\n",
    "$$"
   ]
  },
  {
   "cell_type": "markdown",
   "metadata": {},
   "source": [
    "#### Creating Arrays from Python Lists"
   ]
  },
  {
   "cell_type": "code",
   "execution_count": 2,
   "metadata": {},
   "outputs": [
    {
     "name": "stdout",
     "output_type": "stream",
     "text": [
      "Array from list: [1 2 3 4 5]\n"
     ]
    }
   ],
   "source": [
    "# From a list\n",
    "array_from_list = np.array([1, 2, 3, 4, 5])\n",
    "print(\"Array from list:\", array_from_list)"
   ]
  },
  {
   "cell_type": "markdown",
   "metadata": {},
   "source": [
    "#### Creating Arrays from Tuples"
   ]
  },
  {
   "cell_type": "code",
   "execution_count": 3,
   "metadata": {},
   "outputs": [
    {
     "name": "stdout",
     "output_type": "stream",
     "text": [
      "Array from tuple: [1 2 3 4 5]\n"
     ]
    }
   ],
   "source": [
    "# From a tuple\n",
    "array_from_tuple = np.array((1, 2, 3, 4, 5))\n",
    "print(\"Array from tuple:\", array_from_tuple)"
   ]
  },
  {
   "cell_type": "markdown",
   "metadata": {},
   "source": [
    "* NumPy provides several functions to create arrays of different shapes and content."
   ]
  },
  {
   "cell_type": "markdown",
   "metadata": {},
   "source": [
    "#### Creating Arrays from a Range"
   ]
  },
  {
   "cell_type": "code",
   "execution_count": 4,
   "metadata": {},
   "outputs": [
    {
     "name": "stdout",
     "output_type": "stream",
     "text": [
      "Array using arange: [0 2 4 6 8]\n"
     ]
    }
   ],
   "source": [
    "# Using arange\n",
    "array_arange = np.arange(0, 10, 2)\n",
    "print(\"Array using arange:\", array_arange)"
   ]
  },
  {
   "cell_type": "code",
   "execution_count": 5,
   "metadata": {},
   "outputs": [
    {
     "name": "stdout",
     "output_type": "stream",
     "text": [
      "Array using arange and dtype: [0. 2. 4. 6. 8.]\n"
     ]
    }
   ],
   "source": [
    "## using arange and dtype\n",
    "array_arange_float = np.arange(0, 10, 2, dtype=float)\n",
    "print(\"Array using arange and dtype:\", array_arange_float)"
   ]
  },
  {
   "cell_type": "code",
   "execution_count": 6,
   "metadata": {},
   "outputs": [
    {
     "name": "stdout",
     "output_type": "stream",
     "text": [
      "Array using linspace: [0.   0.25 0.5  0.75 1.  ]\n"
     ]
    }
   ],
   "source": [
    "# Using linspace\n",
    "array_linspace = np.linspace(0, 1, 5)\n",
    "print(\"Array using linspace:\", array_linspace)"
   ]
  },
  {
   "cell_type": "code",
   "execution_count": 7,
   "metadata": {},
   "outputs": [
    {
     "name": "stdout",
     "output_type": "stream",
     "text": [
      "Array using linspace and dtype: [0 0 0 0 1]\n"
     ]
    }
   ],
   "source": [
    "## using linspace and dtype\n",
    "array_linspace_int = np.linspace(0, 1, 5, dtype=int)\n",
    "print(\"Array using linspace and dtype:\", array_linspace_int)"
   ]
  },
  {
   "cell_type": "code",
   "execution_count": 8,
   "metadata": {},
   "outputs": [
    {
     "name": "stdout",
     "output_type": "stream",
     "text": [
      "Array using linspace and endpoint: [0.  0.2 0.4 0.6 0.8]\n"
     ]
    }
   ],
   "source": [
    "## using linspace and endpoint\n",
    "array_linspace_endpoint = np.linspace(0, 1, 5, endpoint=False)\n",
    "print(\"Array using linspace and endpoint:\", array_linspace_endpoint)"
   ]
  },
  {
   "cell_type": "markdown",
   "metadata": {},
   "source": [
    "#### Creating array from a string"
   ]
  },
  {
   "cell_type": "code",
   "execution_count": 9,
   "metadata": {},
   "outputs": [
    {
     "name": "stdout",
     "output_type": "stream",
     "text": [
      "Array from string: [1. 2. 3. 4. 5.]\n"
     ]
    }
   ],
   "source": [
    "## creating array from string\n",
    "array_from_string = np.fromstring('1 2 3 4 5', sep=' ')\n",
    "print(\"Array from string:\", array_from_string)"
   ]
  },
  {
   "cell_type": "code",
   "execution_count": 10,
   "metadata": {},
   "outputs": [
    {
     "name": "stdout",
     "output_type": "stream",
     "text": [
      "['Welcome to Math for ML!']\n",
      "<U23\n"
     ]
    }
   ],
   "source": [
    "## array from non numeric string\n",
    "char_arr = np.array(['Welcome to Math for ML!'])\n",
    "print(char_arr)\n",
    "print(char_arr.dtype)"
   ]
  },
  {
   "cell_type": "code",
   "execution_count": 11,
   "metadata": {},
   "outputs": [
    {
     "name": "stdout",
     "output_type": "stream",
     "text": [
      "Array from function: [1. 2. 3. 4. 1. 2. 3. 4. 1. 2.]\n"
     ]
    }
   ],
   "source": [
    "## creating array from function\n",
    "def my_func(i):\n",
    "    return i % 4 + 1\n",
    "\n",
    "array_from_func = np.fromfunction(my_func, (10,))\n",
    "print(\"Array from function:\", array_from_func)"
   ]
  },
  {
   "cell_type": "markdown",
   "metadata": {},
   "source": [
    "#### Creating default arrays"
   ]
  },
  {
   "cell_type": "code",
   "execution_count": 12,
   "metadata": {},
   "outputs": [
    {
     "name": "stdout",
     "output_type": "stream",
     "text": [
      "Array using zeros: [[0. 0. 0.]\n",
      " [0. 0. 0.]]\n"
     ]
    }
   ],
   "source": [
    "## using zeros\n",
    "array_zeros = np.zeros((2, 3))\n",
    "print(\"Array using zeros:\", array_zeros)"
   ]
  },
  {
   "cell_type": "code",
   "execution_count": 13,
   "metadata": {},
   "outputs": [
    {
     "name": "stdout",
     "output_type": "stream",
     "text": [
      "Array using ones: [[1. 1. 1.]\n",
      " [1. 1. 1.]]\n"
     ]
    }
   ],
   "source": [
    "## using ones\n",
    "array_ones = np.ones((2, 3))\n",
    "print(\"Array using ones:\", array_ones)"
   ]
  },
  {
   "cell_type": "code",
   "execution_count": 14,
   "metadata": {},
   "outputs": [
    {
     "name": "stdout",
     "output_type": "stream",
     "text": [
      "Array using eye: [[1. 0. 0.]\n",
      " [0. 1. 0.]\n",
      " [0. 0. 1.]]\n"
     ]
    }
   ],
   "source": [
    "## using eye\n",
    "array_eye = np.eye(3)\n",
    "print(\"Array using eye:\", array_eye)"
   ]
  },
  {
   "cell_type": "code",
   "execution_count": 15,
   "metadata": {},
   "outputs": [
    {
     "name": "stdout",
     "output_type": "stream",
     "text": [
      "Array using random: [[0.88932063 0.99165036 0.39156314]\n",
      " [0.29602009 0.33851889 0.8366207 ]]\n"
     ]
    }
   ],
   "source": [
    "## using random\n",
    "array_random = np.random.random((2, 3))\n",
    "print(\"Array using random:\", array_random)"
   ]
  },
  {
   "cell_type": "code",
   "execution_count": 16,
   "metadata": {},
   "outputs": [
    {
     "name": "stdout",
     "output_type": "stream",
     "text": [
      "Array using random with dtype: [[95 98 38]\n",
      " [72 14  3]]\n"
     ]
    }
   ],
   "source": [
    "## using random with dtype\n",
    "array_random_int = np.random.randint(0, 100, (2, 3))\n",
    "print(\"Array using random with dtype:\", array_random_int)"
   ]
  },
  {
   "cell_type": "code",
   "execution_count": 17,
   "metadata": {},
   "outputs": [
    {
     "name": "stdout",
     "output_type": "stream",
     "text": [
      "Array using empty: []\n"
     ]
    }
   ],
   "source": [
    "## using empty\n",
    "array_empty = np.empty((0, 3))\n",
    "print(\"Array using empty:\", array_empty)"
   ]
  },
  {
   "cell_type": "markdown",
   "metadata": {},
   "source": [
    "### Multidimensional Arrays (Matrices)"
   ]
  },
  {
   "cell_type": "markdown",
   "metadata": {},
   "source": [
    "#### Creating a 2D Matrix"
   ]
  },
  {
   "cell_type": "markdown",
   "metadata": {},
   "source": [
    "* The code block below creates a matrix with 2 rows and 3 columns"
   ]
  },
  {
   "cell_type": "markdown",
   "metadata": {
    "vscode": {
     "languageId": "latex"
    }
   },
   "source": [
    "$$\n",
    "\\text{Matrix} = \\begin{bmatrix} \n",
    "1 & 2 & 3 \\\\ \n",
    "4 & 5 & 6 \n",
    "\\end{bmatrix}\n",
    "$$"
   ]
  },
  {
   "cell_type": "code",
   "execution_count": 18,
   "metadata": {},
   "outputs": [
    {
     "name": "stdout",
     "output_type": "stream",
     "text": [
      "Matrix:\n",
      " [[1 2 3]\n",
      " [4 5 6]]\n"
     ]
    }
   ],
   "source": [
    "## from list of lists\n",
    "matrix = np.array([[1, 2, 3], [4, 5, 6]])\n",
    "print(\"Matrix:\\n\", matrix)"
   ]
  },
  {
   "cell_type": "code",
   "execution_count": 27,
   "metadata": {},
   "outputs": [
    {
     "name": "stdout",
     "output_type": "stream",
     "text": [
      "Dimensions of matrix: 2\n"
     ]
    }
   ],
   "source": [
    "## printing dimensions\n",
    "print(\"Dimensions of matrix:\", matrix.ndim)"
   ]
  },
  {
   "cell_type": "markdown",
   "metadata": {},
   "source": [
    "$$\n",
    "\\text{Matrix} = \\begin{bmatrix} \n",
    "1 & 2 & 3 \\\\ \n",
    "4 & 5 & 6 \\\\\n",
    "7 & 8 & 9 \n",
    "\\end{bmatrix}\n",
    "$$"
   ]
  },
  {
   "cell_type": "code",
   "execution_count": 36,
   "metadata": {},
   "outputs": [
    {
     "name": "stdout",
     "output_type": "stream",
     "text": [
      "3x3 matrix:\n",
      " [[1 2 3]\n",
      " [4 5 6]\n",
      " [7 8 9]]\n",
      "Shape of the 3D matrix: (3, 3)\n"
     ]
    }
   ],
   "source": [
    "# Creating a 3x3 matrix using a list of lists\n",
    "matrix_3d = np.array([[1, 2, 3], [4, 5, 6],[7, 8, 9]])\n",
    "\n",
    "print(\"3x3 matrix:\\n\", matrix_3d)\n",
    "print(\"Shape of the 3D matrix:\", matrix_3d.shape)"
   ]
  },
  {
   "cell_type": "markdown",
   "metadata": {},
   "source": [
    "### Array Attributes"
   ]
  },
  {
   "cell_type": "markdown",
   "metadata": {},
   "source": [
    "NumPy arrays come with several useful attributes that can provide information about the array and its structure."
   ]
  },
  {
   "cell_type": "markdown",
   "metadata": {},
   "source": [
    "#### Array Shape"
   ]
  },
  {
   "cell_type": "markdown",
   "metadata": {},
   "source": [
    "* The shape attribute returns a tuple representing the dimensions of the array."
   ]
  },
  {
   "cell_type": "code",
   "execution_count": 20,
   "metadata": {},
   "outputs": [
    {
     "name": "stdout",
     "output_type": "stream",
     "text": [
      "Shape of the array: (2, 3)\n"
     ]
    }
   ],
   "source": [
    "## here we have 2 rows and 3 columns\n",
    "array = np.array([[1, 2, 3], [4, 5, 6]])\n",
    "print(\"Shape of the array:\", array.shape)"
   ]
  },
  {
   "cell_type": "markdown",
   "metadata": {},
   "source": [
    "#### Array dtype"
   ]
  },
  {
   "cell_type": "markdown",
   "metadata": {},
   "source": [
    "The dtype attribute returns the data type of the elements in the array."
   ]
  },
  {
   "cell_type": "code",
   "execution_count": 21,
   "metadata": {},
   "outputs": [
    {
     "name": "stdout",
     "output_type": "stream",
     "text": [
      "Data type of the array: int64\n"
     ]
    }
   ],
   "source": [
    "array = np.array([[1, 2, 3], [4, 5, 6]])\n",
    "print(\"Data type of the array:\", array.dtype)\n",
    "# Output: Data type of the array: int64 (or int32 depending on the platform)"
   ]
  },
  {
   "cell_type": "markdown",
   "metadata": {},
   "source": [
    "#### Array Size"
   ]
  },
  {
   "cell_type": "markdown",
   "metadata": {},
   "source": [
    "* The `size` attribute returns the total number of elements in the array."
   ]
  },
  {
   "cell_type": "code",
   "execution_count": 22,
   "metadata": {},
   "outputs": [
    {
     "name": "stdout",
     "output_type": "stream",
     "text": [
      "Total number of elements in the array: 6\n"
     ]
    }
   ],
   "source": [
    "array = np.array([[1, 2, 3], [4, 5, 6]])\n",
    "print(\"Total number of elements in the array:\", array.size)"
   ]
  },
  {
   "cell_type": "markdown",
   "metadata": {},
   "source": [
    "#### Array Dimension"
   ]
  },
  {
   "cell_type": "markdown",
   "metadata": {},
   "source": [
    "* The `ndim` attribute returns the number of dimensions (or axes) of the array.\n",
    "* This is different from `dimension` in linear algebra.\n",
    "     * A vector has 1 dimension.\n",
    "     * A matrix has 2 dimensions.\n",
    "     * A 3x3 matrix has 2 dimensions. "
   ]
  },
  {
   "cell_type": "code",
   "execution_count": 23,
   "metadata": {},
   "outputs": [
    {
     "name": "stdout",
     "output_type": "stream",
     "text": [
      "Number of dimensions of the array: 1\n"
     ]
    }
   ],
   "source": [
    "array = np.array([1, 2, 3])\n",
    "print(\"Number of dimensions of the array:\", array.ndim)"
   ]
  },
  {
   "cell_type": "code",
   "execution_count": 24,
   "metadata": {},
   "outputs": [
    {
     "name": "stdout",
     "output_type": "stream",
     "text": [
      "Number of dimensions of the array: 2\n"
     ]
    }
   ],
   "source": [
    "array = np.array([[1, 2, 3], [4, 5, 6]])\n",
    "print(\"Number of dimensions of the array:\", array.ndim)"
   ]
  },
  {
   "cell_type": "code",
   "execution_count": 25,
   "metadata": {},
   "outputs": [
    {
     "name": "stdout",
     "output_type": "stream",
     "text": [
      "Number of dimensions of the array: 3\n"
     ]
    }
   ],
   "source": [
    "array = np.array([[[1, 2, 3], [4, 5, 6],[7, 8, 9]]])\n",
    "print(\"Number of dimensions of the array:\", array.ndim)"
   ]
  },
  {
   "cell_type": "code",
   "execution_count": 37,
   "metadata": {},
   "outputs": [
    {
     "name": "stdout",
     "output_type": "stream",
     "text": [
      "3D Matrix:\n",
      " [[[ 1  2  3]\n",
      "  [ 4  5  6]\n",
      "  [ 7  8  9]]\n",
      "\n",
      " [[10 11 12]\n",
      "  [13 14 15]\n",
      "  [16 17 18]]]\n",
      "Shape of the 3D matrix: (2, 3, 3)\n",
      "Number of dimensions of the 3D matrix: 3\n"
     ]
    }
   ],
   "source": [
    "## 3D Matrix (tensor)\n",
    "array = np.array([[[1, 2, 3], [4, 5, 6],[7, 8, 9]], [[10, 11, 12], [13, 14, 15],[16, 17, 18]]])\n",
    "print(\"3D Matrix:\\n\", array)\n",
    "print(\"Shape of the 3D matrix:\", array.shape)\n",
    "print(\"Number of dimensions of the 3D matrix:\", array.ndim)"
   ]
  },
  {
   "cell_type": "markdown",
   "metadata": {},
   "source": [
    "#### Array Size in Bytes"
   ]
  },
  {
   "cell_type": "markdown",
   "metadata": {},
   "source": [
    "* The `itemsize` attribute returns the size (in bytes) of each element in the array."
   ]
  },
  {
   "cell_type": "code",
   "execution_count": 38,
   "metadata": {},
   "outputs": [
    {
     "name": "stdout",
     "output_type": "stream",
     "text": [
      "Size of each element in the array (in bytes): 8\n"
     ]
    }
   ],
   "source": [
    "array = np.array([[1, 2, 3], [4, 5, 6]])\n",
    "print(\"Size of each element in the array (in bytes):\", array.itemsize)"
   ]
  },
  {
   "cell_type": "markdown",
   "metadata": {},
   "source": [
    "### Array Indexing & Slicing"
   ]
  },
  {
   "cell_type": "markdown",
   "metadata": {},
   "source": [
    "* Indexing and slicing in NumPy allow you to access and modify elements within arrays. This is a fundamental aspect of working with NumPy arrays.\n",
    "* Indices in NumPy arrays start at 0"
   ]
  },
  {
   "cell_type": "markdown",
   "metadata": {},
   "source": [
    "#### Indexing"
   ]
  },
  {
   "cell_type": "code",
   "execution_count": 50,
   "metadata": {},
   "outputs": [
    {
     "name": "stdout",
     "output_type": "stream",
     "text": [
      "Element at index 0: 1\n",
      "Element at index 1: 2\n",
      "Element at last index: 5\n",
      "Element at second last index: 4\n"
     ]
    }
   ],
   "source": [
    "## indexing a 1D array\n",
    "array = np.array([1, 2, 3, 4, 5])\n",
    "print(\"Element at index 0:\", array[0])\n",
    "print(\"Element at index 1:\", array[1])\n",
    "print(\"Element at last index:\", array[-1])\n",
    "print(\"Element at second last index:\", array[-2])"
   ]
  },
  {
   "cell_type": "code",
   "execution_count": 52,
   "metadata": {},
   "outputs": [
    {
     "name": "stdout",
     "output_type": "stream",
     "text": [
      "Element at row 0 and column 0: 1\n",
      "Element at row 0 and column 1: 2\n",
      "Elements in last row: [4 5 6]\n"
     ]
    }
   ],
   "source": [
    "## indexing a 2D array\n",
    "array = np.array([[1, 2, 3], [4, 5, 6]])\n",
    "print(\"Element at row 0 and column 0:\", array[0, 0])\n",
    "print(\"Element at row 0 and column 1:\", array[0, 1])\n",
    "print(\"Elements in last row:\", array[-1])"
   ]
  },
  {
   "cell_type": "markdown",
   "metadata": {},
   "source": [
    "#### Slicing"
   ]
  },
  {
   "cell_type": "markdown",
   "metadata": {},
   "source": [
    "* Slicing allows you to access a range of elements in an array. The syntax for slicing is `start:stop:step`."
   ]
  },
  {
   "cell_type": "code",
   "execution_count": 42,
   "metadata": {},
   "outputs": [
    {
     "name": "stdout",
     "output_type": "stream",
     "text": [
      "Elements from index 0 to 1: [1 2]\n",
      "Elements from index 1: [2 3 4 5]\n",
      "Elements up to index 3: [1 2 3]\n",
      "Alternate elements starting from index 0: [1 3 5]\n"
     ]
    }
   ],
   "source": [
    "## slicing a 1D array\n",
    "array = np.array([1, 2, 3, 4, 5])\n",
    "print(\"Elements from index 0 to 1:\", array[0:2])\n",
    "print(\"Elements from index 1:\", array[1:])\n",
    "print(\"Elements up to index 3:\", array[:3])\n",
    "print(\"Alternate elements starting from index 0:\", array[0::2])"
   ]
  },
  {
   "cell_type": "code",
   "execution_count": 48,
   "metadata": {},
   "outputs": [
    {
     "name": "stdout",
     "output_type": "stream",
     "text": [
      "Elements from rows 0 to 1 and columns 0 to 1:\n",
      " [[1 2]\n",
      " [4 5]]\n",
      "Elements from rows 0 to 1 and all columns:\n",
      " [[1 2 3]\n",
      " [4 5 6]]\n",
      "Elements from all rows and columns 1 to 2:\n",
      " [[2 3]\n",
      " [5 6]]\n",
      "Elements from all rows and first column:\n",
      " [1 4]\n",
      "Elements from rows 0 to 1 and alternate columns:\n",
      " [[1 3]\n",
      " [4 6]]\n",
      "Elements from last row and all columns:\n",
      " [4 5 6]\n",
      "Element from last row and last column:\n",
      " 6\n"
     ]
    }
   ],
   "source": [
    "## slicing a 2D array\n",
    "array = np.array([[1, 2, 3], [4, 5, 6]])\n",
    "print(\"Elements from rows 0 to 1 and columns 0 to 1:\\n\", array[0:2, 0:2])\n",
    "print(\"Elements from rows 0 to 1 and all columns:\\n\", array[0:2, :])\n",
    "print(\"Elements from all rows and columns 1 to 2:\\n\", array[:, 1:])\n",
    "print(\"Elements from all rows and first column:\\n\", array[:, 0])\n",
    "print(\"Elements from rows 0 to 1 and alternate columns:\\n\", array[0:2, 0::2])\n",
    "print(\"Elements from last row and all columns:\\n\", array[-1])\n",
    "print(\"Element from last row and last column:\\n\", array[-1, -1])"
   ]
  },
  {
   "cell_type": "markdown",
   "metadata": {},
   "source": [
    "#### Fancy Indexing"
   ]
  },
  {
   "cell_type": "markdown",
   "metadata": {},
   "source": [
    "* Fancy indexing allows you to access multiple elements at once using arrays of indices."
   ]
  },
  {
   "cell_type": "code",
   "execution_count": 53,
   "metadata": {},
   "outputs": [
    {
     "name": "stdout",
     "output_type": "stream",
     "text": [
      "Elements at indices 1 and 3: [2 4]\n"
     ]
    }
   ],
   "source": [
    "## fancy indexing a 1D array\n",
    "array = np.array([1, 2, 3, 4, 5])\n",
    "indices = [1, 3]\n",
    "print(\"Elements at indices 1 and 3:\", array[indices])"
   ]
  },
  {
   "cell_type": "code",
   "execution_count": 57,
   "metadata": {},
   "outputs": [
    {
     "name": "stdout",
     "output_type": "stream",
     "text": [
      "Elements at row 1 and columns 0 and 2:\n",
      " [4 6]\n",
      "All elements at columns 0 and 2:\n",
      " [[1 3]\n",
      " [4 6]]\n",
      "All elements at row 1:\n",
      " [[4 5 6]]\n"
     ]
    }
   ],
   "source": [
    "## fancy indexing a 2D array\n",
    "array = np.array([[1, 2, 3], [4, 5, 6]])\n",
    "row_indices = [1]\n",
    "column_indices = [0, 2]\n",
    "print(\"Elements at row 1 and columns 0 and 2:\\n\", array[row_indices, column_indices])\n",
    "print(\"All elements at columns 0 and 2:\\n\", array[:, column_indices])\n",
    "print(\"All elements at row 1:\\n\", array[row_indices, :])"
   ]
  },
  {
   "cell_type": "markdown",
   "metadata": {},
   "source": [
    "#### Boolean Indexing"
   ]
  },
  {
   "cell_type": "markdown",
   "metadata": {},
   "source": [
    "* Boolean indexing allows you to select elements based on conditions."
   ]
  },
  {
   "cell_type": "code",
   "execution_count": 58,
   "metadata": {},
   "outputs": [
    {
     "name": "stdout",
     "output_type": "stream",
     "text": [
      "Elements greater than 2: [3 4 5]\n"
     ]
    }
   ],
   "source": [
    "## boolean indexing a 1D array\n",
    "array = np.array([1, 2, 3, 4, 5])\n",
    "mask = array > 2\n",
    "print(\"Elements greater than 2:\", array[mask])"
   ]
  },
  {
   "cell_type": "code",
   "execution_count": 60,
   "metadata": {},
   "outputs": [
    {
     "name": "stdout",
     "output_type": "stream",
     "text": [
      "Elements greater than 2:\n",
      " [3 4 5 6]\n",
      "Elements greater than 2 in first row:\n",
      " [3]\n"
     ]
    }
   ],
   "source": [
    "## boolean indexing a 2D array\n",
    "array = np.array([[1, 2, 3], [4, 5, 6]])\n",
    "mask = array > 2\n",
    "print(\"Elements greater than 2:\\n\", array[mask])\n",
    "print(\"Elements greater than 2 in first row:\\n\", array[0, mask[0]])"
   ]
  },
  {
   "cell_type": "markdown",
   "metadata": {},
   "source": [
    "## Array Manipulation"
   ]
  },
  {
   "cell_type": "markdown",
   "metadata": {},
   "source": [
    "### Reshaping Arrays"
   ]
  },
  {
   "cell_type": "markdown",
   "metadata": {},
   "source": [
    "### Transposing Arrays"
   ]
  },
  {
   "cell_type": "markdown",
   "metadata": {},
   "source": [
    "### Array Concatenation & Stacking"
   ]
  },
  {
   "cell_type": "markdown",
   "metadata": {},
   "source": [
    "#### Vertical Stacking"
   ]
  },
  {
   "cell_type": "markdown",
   "metadata": {},
   "source": [
    "#### Horizontal Stacking"
   ]
  },
  {
   "cell_type": "markdown",
   "metadata": {},
   "source": [
    "### Splitting Arrays"
   ]
  },
  {
   "cell_type": "markdown",
   "metadata": {},
   "source": [
    "### Adding/Removing Elements"
   ]
  },
  {
   "cell_type": "markdown",
   "metadata": {},
   "source": [
    "### Copying Arrays"
   ]
  },
  {
   "cell_type": "markdown",
   "metadata": {},
   "source": [
    "## Array Operations"
   ]
  },
  {
   "cell_type": "markdown",
   "metadata": {},
   "source": [
    "### Basic Operations"
   ]
  },
  {
   "cell_type": "markdown",
   "metadata": {},
   "source": [
    "#### Addition"
   ]
  },
  {
   "cell_type": "markdown",
   "metadata": {},
   "source": [
    "#### Substraction"
   ]
  },
  {
   "cell_type": "markdown",
   "metadata": {},
   "source": [
    "#### Multiplication"
   ]
  },
  {
   "cell_type": "markdown",
   "metadata": {},
   "source": [
    "#### Dot Product"
   ]
  },
  {
   "cell_type": "markdown",
   "metadata": {},
   "source": [
    "#### Scalar Multiplication (Broadcasting)"
   ]
  },
  {
   "cell_type": "markdown",
   "metadata": {},
   "source": [
    "### Statistical Operations"
   ]
  },
  {
   "cell_type": "markdown",
   "metadata": {},
   "source": [
    "#### Finding Mean, Median, Mode"
   ]
  },
  {
   "cell_type": "markdown",
   "metadata": {},
   "source": [
    "#### Finding Minimum and maximum of an array"
   ]
  },
  {
   "cell_type": "markdown",
   "metadata": {},
   "source": [
    "### Sorting & Searching"
   ]
  },
  {
   "cell_type": "markdown",
   "metadata": {},
   "source": []
  },
  {
   "cell_type": "markdown",
   "metadata": {},
   "source": [
    "## Helpful Functions"
   ]
  },
  {
   "cell_type": "markdown",
   "metadata": {},
   "source": [
    "### Copying Arrays"
   ]
  },
  {
   "cell_type": "markdown",
   "metadata": {},
   "source": [
    "### Comparing Array Elements using isclose()"
   ]
  },
  {
   "cell_type": "markdown",
   "metadata": {},
   "source": [
    "### Converting Array Elment Types"
   ]
  },
  {
   "cell_type": "markdown",
   "metadata": {},
   "source": [
    "## Linear Equations as Matrices "
   ]
  },
  {
   "cell_type": "markdown",
   "metadata": {},
   "source": [
    "### Evaluating Determinant"
   ]
  },
  {
   "cell_type": "markdown",
   "metadata": {},
   "source": [
    "### Solving Linear Equations"
   ]
  },
  {
   "cell_type": "markdown",
   "metadata": {},
   "source": [
    "## Finding Eigenvalues and Eigenvectors"
   ]
  },
  {
   "cell_type": "markdown",
   "metadata": {},
   "source": [
    "## Create Covariance Matrix"
   ]
  },
  {
   "cell_type": "markdown",
   "metadata": {},
   "source": [
    "## Finding Inverse of a Matrix"
   ]
  },
  {
   "cell_type": "markdown",
   "metadata": {},
   "source": [
    "## Image Handling"
   ]
  }
 ],
 "metadata": {
  "kernelspec": {
   "display_name": "ml",
   "language": "python",
   "name": "python3"
  },
  "language_info": {
   "codemirror_mode": {
    "name": "ipython",
    "version": 3
   },
   "file_extension": ".py",
   "mimetype": "text/x-python",
   "name": "python",
   "nbconvert_exporter": "python",
   "pygments_lexer": "ipython3",
   "version": "3.12.4"
  }
 },
 "nbformat": 4,
 "nbformat_minor": 4
}
