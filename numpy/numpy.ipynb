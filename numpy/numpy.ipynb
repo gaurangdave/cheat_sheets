{
 "cells": [
  {
   "cell_type": "markdown",
   "metadata": {
    "editable": true,
    "slideshow": {
     "slide_type": ""
    },
    "tags": []
   },
   "source": [
    "# Numpy Cheat Sheet"
   ]
  },
  {
   "cell_type": "markdown",
   "metadata": {},
   "source": [
    "## Introduction"
   ]
  },
  {
   "cell_type": "markdown",
   "metadata": {},
   "source": [
    "This notebook has various shortcuts, tips/tricks that I think might come in handy for various data science projects. "
   ]
  },
  {
   "cell_type": "markdown",
   "metadata": {},
   "source": [
    "### What Is Numpy?\n",
    "NumPy is a powerful numerical computing library for Python. It provides support for arrays, matrices, and many mathematical functions to operate on these data structures.\n"
   ]
  },
  {
   "cell_type": "markdown",
   "metadata": {},
   "source": [
    "### Installation"
   ]
  },
  {
   "cell_type": "markdown",
   "metadata": {},
   "source": [
    "* To install NumPy, using `pip`:\n",
    "\n",
    "```bash\n",
    "pip install numpy\n",
    "```\n",
    "\n",
    "* To install NumPy, using `conda`:\n",
    "\n",
    "```bash\n",
    "conda install numpy\n",
    "```\n",
    "\n",
    "* To install NumPy using poetry:\n",
    "\n",
    "```bash\n",
    "poetry add numpy\n",
    "```"
   ]
  },
  {
   "cell_type": "markdown",
   "metadata": {},
   "source": [
    "### Importing NumPy\n",
    "\n",
    "```python\n",
    "import numpy as np\n",
    "```"
   ]
  },
  {
   "cell_type": "code",
   "execution_count": 198,
   "metadata": {},
   "outputs": [],
   "source": [
    "## import packages\n",
    "import numpy as np"
   ]
  },
  {
   "cell_type": "markdown",
   "metadata": {},
   "source": [
    "## Basics"
   ]
  },
  {
   "cell_type": "markdown",
   "metadata": {},
   "source": [
    "* In NumPy, arrays can be used to represent both vectors and matrices. \n",
    "     * A vector is simply a one-dimensional array.\n",
    "     * A matrix is a two-dimensional array."
   ]
  },
  {
   "cell_type": "markdown",
   "metadata": {},
   "source": [
    "### Creating Arrays"
   ]
  },
  {
   "cell_type": "markdown",
   "metadata": {},
   "source": [
    "* The code below creates the following `Vector`"
   ]
  },
  {
   "cell_type": "markdown",
   "metadata": {
    "vscode": {
     "languageId": "latex"
    }
   },
   "source": [
    "$$\n",
    "\\text{Vector} = \\begin{bmatrix} \n",
    "1 & 2 & 3 & 4 & 5\n",
    "\\end{bmatrix}\n",
    "$$"
   ]
  },
  {
   "cell_type": "markdown",
   "metadata": {},
   "source": [
    "#### Creating Arrays from Python Lists"
   ]
  },
  {
   "cell_type": "code",
   "execution_count": 199,
   "metadata": {},
   "outputs": [
    {
     "name": "stdout",
     "output_type": "stream",
     "text": [
      "Array from list: [1 2 3 4 5]\n"
     ]
    }
   ],
   "source": [
    "# From a list\n",
    "array_from_list = np.array([1, 2, 3, 4, 5])\n",
    "print(\"Array from list:\", array_from_list)"
   ]
  },
  {
   "cell_type": "markdown",
   "metadata": {},
   "source": [
    "#### Creating Arrays from Tuples"
   ]
  },
  {
   "cell_type": "code",
   "execution_count": 200,
   "metadata": {},
   "outputs": [
    {
     "name": "stdout",
     "output_type": "stream",
     "text": [
      "Array from tuple: [1 2 3 4 5]\n"
     ]
    }
   ],
   "source": [
    "# From a tuple\n",
    "array_from_tuple = np.array((1, 2, 3, 4, 5))\n",
    "print(\"Array from tuple:\", array_from_tuple)"
   ]
  },
  {
   "cell_type": "markdown",
   "metadata": {},
   "source": [
    "* NumPy provides several functions to create arrays of different shapes and content."
   ]
  },
  {
   "cell_type": "markdown",
   "metadata": {},
   "source": [
    "#### Creating Arrays from a Range"
   ]
  },
  {
   "cell_type": "code",
   "execution_count": 201,
   "metadata": {},
   "outputs": [
    {
     "name": "stdout",
     "output_type": "stream",
     "text": [
      "Array using arange: [0 2 4 6 8]\n"
     ]
    }
   ],
   "source": [
    "# Using arange\n",
    "array_arange = np.arange(0, 10, 2)\n",
    "print(\"Array using arange:\", array_arange)"
   ]
  },
  {
   "cell_type": "code",
   "execution_count": 202,
   "metadata": {},
   "outputs": [
    {
     "name": "stdout",
     "output_type": "stream",
     "text": [
      "Array using arange and dtype: [0. 2. 4. 6. 8.]\n"
     ]
    }
   ],
   "source": [
    "## using arange and dtype\n",
    "array_arange_float = np.arange(0, 10, 2, dtype=float)\n",
    "print(\"Array using arange and dtype:\", array_arange_float)"
   ]
  },
  {
   "cell_type": "code",
   "execution_count": 203,
   "metadata": {},
   "outputs": [
    {
     "name": "stdout",
     "output_type": "stream",
     "text": [
      "Array using linspace: [0.   0.25 0.5  0.75 1.  ]\n"
     ]
    }
   ],
   "source": [
    "# Using linspace\n",
    "array_linspace = np.linspace(0, 1, 5)\n",
    "print(\"Array using linspace:\", array_linspace)"
   ]
  },
  {
   "cell_type": "code",
   "execution_count": 204,
   "metadata": {},
   "outputs": [
    {
     "name": "stdout",
     "output_type": "stream",
     "text": [
      "Array using linspace and dtype: [0 0 0 0 1]\n"
     ]
    }
   ],
   "source": [
    "## using linspace and dtype\n",
    "array_linspace_int = np.linspace(0, 1, 5, dtype=int)\n",
    "print(\"Array using linspace and dtype:\", array_linspace_int)"
   ]
  },
  {
   "cell_type": "code",
   "execution_count": 205,
   "metadata": {},
   "outputs": [
    {
     "name": "stdout",
     "output_type": "stream",
     "text": [
      "Array using linspace and endpoint: [0.  0.2 0.4 0.6 0.8]\n"
     ]
    }
   ],
   "source": [
    "## using linspace and endpoint\n",
    "array_linspace_endpoint = np.linspace(0, 1, 5, endpoint=False)\n",
    "print(\"Array using linspace and endpoint:\", array_linspace_endpoint)"
   ]
  },
  {
   "cell_type": "markdown",
   "metadata": {},
   "source": [
    "#### Creating array from a string"
   ]
  },
  {
   "cell_type": "code",
   "execution_count": 206,
   "metadata": {},
   "outputs": [
    {
     "name": "stdout",
     "output_type": "stream",
     "text": [
      "Array from string: [1. 2. 3. 4. 5.]\n"
     ]
    }
   ],
   "source": [
    "## creating array from string\n",
    "array_from_string = np.fromstring('1 2 3 4 5', sep=' ')\n",
    "print(\"Array from string:\", array_from_string)"
   ]
  },
  {
   "cell_type": "code",
   "execution_count": 207,
   "metadata": {},
   "outputs": [
    {
     "name": "stdout",
     "output_type": "stream",
     "text": [
      "['Welcome to Math for ML!']\n",
      "<U23\n"
     ]
    }
   ],
   "source": [
    "## array from non numeric string\n",
    "char_arr = np.array(['Welcome to Math for ML!'])\n",
    "print(char_arr)\n",
    "print(char_arr.dtype)"
   ]
  },
  {
   "cell_type": "code",
   "execution_count": 208,
   "metadata": {},
   "outputs": [
    {
     "name": "stdout",
     "output_type": "stream",
     "text": [
      "Array from function: [1. 2. 3. 4. 1. 2. 3. 4. 1. 2.]\n"
     ]
    }
   ],
   "source": [
    "## creating array from function\n",
    "def my_func(i):\n",
    "    return i % 4 + 1\n",
    "\n",
    "array_from_func = np.fromfunction(my_func, (10,))\n",
    "print(\"Array from function:\", array_from_func)"
   ]
  },
  {
   "cell_type": "markdown",
   "metadata": {},
   "source": [
    "#### Creating default arrays"
   ]
  },
  {
   "cell_type": "code",
   "execution_count": 209,
   "metadata": {},
   "outputs": [
    {
     "name": "stdout",
     "output_type": "stream",
     "text": [
      "Array using zeros: [[0. 0. 0.]\n",
      " [0. 0. 0.]]\n"
     ]
    }
   ],
   "source": [
    "## using zeros\n",
    "array_zeros = np.zeros((2, 3))\n",
    "print(\"Array using zeros:\", array_zeros)"
   ]
  },
  {
   "cell_type": "code",
   "execution_count": 210,
   "metadata": {},
   "outputs": [
    {
     "name": "stdout",
     "output_type": "stream",
     "text": [
      "Array using ones: [[1. 1. 1.]\n",
      " [1. 1. 1.]]\n"
     ]
    }
   ],
   "source": [
    "## using ones\n",
    "array_ones = np.ones((2, 3))\n",
    "print(\"Array using ones:\", array_ones)"
   ]
  },
  {
   "cell_type": "code",
   "execution_count": 211,
   "metadata": {},
   "outputs": [
    {
     "name": "stdout",
     "output_type": "stream",
     "text": [
      "Array using eye: [[1. 0. 0.]\n",
      " [0. 1. 0.]\n",
      " [0. 0. 1.]]\n"
     ]
    }
   ],
   "source": [
    "## using eye\n",
    "array_eye = np.eye(3)\n",
    "print(\"Array using eye:\", array_eye)"
   ]
  },
  {
   "cell_type": "code",
   "execution_count": 212,
   "metadata": {},
   "outputs": [
    {
     "name": "stdout",
     "output_type": "stream",
     "text": [
      "Array using random: [[0.26768261 0.41601667 0.83514355]\n",
      " [0.08476781 0.17480053 0.7193971 ]]\n"
     ]
    }
   ],
   "source": [
    "## using random\n",
    "array_random = np.random.random((2, 3))\n",
    "print(\"Array using random:\", array_random)"
   ]
  },
  {
   "cell_type": "code",
   "execution_count": 213,
   "metadata": {},
   "outputs": [
    {
     "name": "stdout",
     "output_type": "stream",
     "text": [
      "Array using random with dtype: [[90 27 16]\n",
      " [10 70 18]]\n"
     ]
    }
   ],
   "source": [
    "## using random with dtype\n",
    "array_random_int = np.random.randint(0, 100, (2, 3))\n",
    "print(\"Array using random with dtype:\", array_random_int)"
   ]
  },
  {
   "cell_type": "code",
   "execution_count": 214,
   "metadata": {},
   "outputs": [
    {
     "name": "stdout",
     "output_type": "stream",
     "text": [
      "Array using empty: []\n"
     ]
    }
   ],
   "source": [
    "## using empty\n",
    "array_empty = np.empty((0, 3))\n",
    "print(\"Array using empty:\", array_empty)"
   ]
  },
  {
   "cell_type": "markdown",
   "metadata": {},
   "source": [
    "### Multidimensional Arrays (Matrices)"
   ]
  },
  {
   "cell_type": "markdown",
   "metadata": {},
   "source": [
    "#### Creating a 2D Matrix"
   ]
  },
  {
   "cell_type": "markdown",
   "metadata": {},
   "source": [
    "* The code block below creates a matrix with 2 rows and 3 columns"
   ]
  },
  {
   "cell_type": "markdown",
   "metadata": {
    "vscode": {
     "languageId": "latex"
    }
   },
   "source": [
    "$$\n",
    "\\text{Matrix} = \\begin{bmatrix} \n",
    "1 & 2 & 3 \\\\ \n",
    "4 & 5 & 6 \n",
    "\\end{bmatrix}\n",
    "$$"
   ]
  },
  {
   "cell_type": "code",
   "execution_count": 215,
   "metadata": {},
   "outputs": [
    {
     "name": "stdout",
     "output_type": "stream",
     "text": [
      "Matrix:\n",
      " [[1 2 3]\n",
      " [4 5 6]]\n"
     ]
    }
   ],
   "source": [
    "## from list of lists\n",
    "matrix = np.array([[1, 2, 3], [4, 5, 6]])\n",
    "print(\"Matrix:\\n\", matrix)"
   ]
  },
  {
   "cell_type": "code",
   "execution_count": 216,
   "metadata": {},
   "outputs": [
    {
     "name": "stdout",
     "output_type": "stream",
     "text": [
      "Dimensions of matrix: 2\n"
     ]
    }
   ],
   "source": [
    "## printing dimensions\n",
    "print(\"Dimensions of matrix:\", matrix.ndim)"
   ]
  },
  {
   "cell_type": "markdown",
   "metadata": {},
   "source": [
    "$$\n",
    "\\text{Matrix} = \\begin{bmatrix} \n",
    "1 & 2 & 3 \\\\ \n",
    "4 & 5 & 6 \\\\\n",
    "7 & 8 & 9 \n",
    "\\end{bmatrix}\n",
    "$$"
   ]
  },
  {
   "cell_type": "code",
   "execution_count": 217,
   "metadata": {},
   "outputs": [
    {
     "name": "stdout",
     "output_type": "stream",
     "text": [
      "3x3 matrix:\n",
      " [[1 2 3]\n",
      " [4 5 6]\n",
      " [7 8 9]]\n",
      "Shape of the 3D matrix: (3, 3)\n"
     ]
    }
   ],
   "source": [
    "# Creating a 3x3 matrix using a list of lists\n",
    "matrix_3d = np.array([[1, 2, 3], [4, 5, 6],[7, 8, 9]])\n",
    "\n",
    "print(\"3x3 matrix:\\n\", matrix_3d)\n",
    "print(\"Shape of the 3D matrix:\", matrix_3d.shape)"
   ]
  },
  {
   "cell_type": "markdown",
   "metadata": {},
   "source": [
    "### Array Attributes"
   ]
  },
  {
   "cell_type": "markdown",
   "metadata": {},
   "source": [
    "NumPy arrays come with several useful attributes that can provide information about the array and its structure."
   ]
  },
  {
   "cell_type": "markdown",
   "metadata": {},
   "source": [
    "#### Array Shape"
   ]
  },
  {
   "cell_type": "markdown",
   "metadata": {},
   "source": [
    "* The shape attribute returns a tuple representing the dimensions of the array."
   ]
  },
  {
   "cell_type": "code",
   "execution_count": 218,
   "metadata": {},
   "outputs": [
    {
     "name": "stdout",
     "output_type": "stream",
     "text": [
      "Shape of the array: (2, 3)\n"
     ]
    }
   ],
   "source": [
    "## here we have 2 rows and 3 columns\n",
    "array = np.array([[1, 2, 3], [4, 5, 6]])\n",
    "print(\"Shape of the array:\", array.shape)"
   ]
  },
  {
   "cell_type": "markdown",
   "metadata": {},
   "source": [
    "#### Array dtype"
   ]
  },
  {
   "cell_type": "markdown",
   "metadata": {},
   "source": [
    "The dtype attribute returns the data type of the elements in the array."
   ]
  },
  {
   "cell_type": "code",
   "execution_count": 219,
   "metadata": {},
   "outputs": [
    {
     "name": "stdout",
     "output_type": "stream",
     "text": [
      "Data type of the array: int64\n"
     ]
    }
   ],
   "source": [
    "array = np.array([[1, 2, 3], [4, 5, 6]])\n",
    "print(\"Data type of the array:\", array.dtype)\n",
    "# Output: Data type of the array: int64 (or int32 depending on the platform)"
   ]
  },
  {
   "cell_type": "markdown",
   "metadata": {},
   "source": [
    "#### Array Size"
   ]
  },
  {
   "cell_type": "markdown",
   "metadata": {},
   "source": [
    "* The `size` attribute returns the total number of elements in the array."
   ]
  },
  {
   "cell_type": "code",
   "execution_count": 220,
   "metadata": {},
   "outputs": [
    {
     "name": "stdout",
     "output_type": "stream",
     "text": [
      "Total number of elements in the array: 6\n"
     ]
    }
   ],
   "source": [
    "array = np.array([[1, 2, 3], [4, 5, 6]])\n",
    "print(\"Total number of elements in the array:\", array.size)"
   ]
  },
  {
   "cell_type": "markdown",
   "metadata": {},
   "source": [
    "#### Array Dimension"
   ]
  },
  {
   "cell_type": "markdown",
   "metadata": {},
   "source": [
    "* The `ndim` attribute returns the number of dimensions (or axes) of the array.\n",
    "* This is different from `dimension` in linear algebra.\n",
    "     * A vector has 1 dimension.\n",
    "     * A matrix has 2 dimensions.\n",
    "     * A 3x3 matrix has 2 dimensions. "
   ]
  },
  {
   "cell_type": "code",
   "execution_count": 221,
   "metadata": {},
   "outputs": [
    {
     "name": "stdout",
     "output_type": "stream",
     "text": [
      "Number of dimensions of the array: 1\n"
     ]
    }
   ],
   "source": [
    "array = np.array([1, 2, 3])\n",
    "print(\"Number of dimensions of the array:\", array.ndim)"
   ]
  },
  {
   "cell_type": "code",
   "execution_count": 222,
   "metadata": {},
   "outputs": [
    {
     "name": "stdout",
     "output_type": "stream",
     "text": [
      "Number of dimensions of the array: 2\n"
     ]
    }
   ],
   "source": [
    "array = np.array([[1, 2, 3], [4, 5, 6]])\n",
    "print(\"Number of dimensions of the array:\", array.ndim)"
   ]
  },
  {
   "cell_type": "code",
   "execution_count": 223,
   "metadata": {},
   "outputs": [
    {
     "name": "stdout",
     "output_type": "stream",
     "text": [
      "Number of dimensions of the array: 3\n"
     ]
    }
   ],
   "source": [
    "array = np.array([[[1, 2, 3], [4, 5, 6],[7, 8, 9]]])\n",
    "print(\"Number of dimensions of the array:\", array.ndim)"
   ]
  },
  {
   "cell_type": "code",
   "execution_count": 224,
   "metadata": {},
   "outputs": [
    {
     "name": "stdout",
     "output_type": "stream",
     "text": [
      "3D Matrix:\n",
      " [[[ 1  2  3]\n",
      "  [ 4  5  6]\n",
      "  [ 7  8  9]]\n",
      "\n",
      " [[10 11 12]\n",
      "  [13 14 15]\n",
      "  [16 17 18]]]\n",
      "Shape of the 3D matrix: (2, 3, 3)\n",
      "Number of dimensions of the 3D matrix: 3\n"
     ]
    }
   ],
   "source": [
    "## 3D Matrix (tensor)\n",
    "array = np.array([[[1, 2, 3], [4, 5, 6],[7, 8, 9]], [[10, 11, 12], [13, 14, 15],[16, 17, 18]]])\n",
    "print(\"3D Matrix:\\n\", array)\n",
    "print(\"Shape of the 3D matrix:\", array.shape)\n",
    "print(\"Number of dimensions of the 3D matrix:\", array.ndim)"
   ]
  },
  {
   "cell_type": "markdown",
   "metadata": {},
   "source": [
    "#### Array Size in Bytes"
   ]
  },
  {
   "cell_type": "markdown",
   "metadata": {},
   "source": [
    "* The `itemsize` attribute returns the size (in bytes) of each element in the array."
   ]
  },
  {
   "cell_type": "code",
   "execution_count": 225,
   "metadata": {},
   "outputs": [
    {
     "name": "stdout",
     "output_type": "stream",
     "text": [
      "Size of each element in the array (in bytes): 8\n"
     ]
    }
   ],
   "source": [
    "array = np.array([[1, 2, 3], [4, 5, 6]])\n",
    "print(\"Size of each element in the array (in bytes):\", array.itemsize)"
   ]
  },
  {
   "cell_type": "markdown",
   "metadata": {},
   "source": [
    "### Array Indexing & Slicing"
   ]
  },
  {
   "cell_type": "markdown",
   "metadata": {},
   "source": [
    "* Indexing and slicing in NumPy allow you to access and modify elements within arrays. This is a fundamental aspect of working with NumPy arrays.\n",
    "* Indices in NumPy arrays start at 0"
   ]
  },
  {
   "cell_type": "markdown",
   "metadata": {},
   "source": [
    "#### Indexing"
   ]
  },
  {
   "cell_type": "code",
   "execution_count": 226,
   "metadata": {},
   "outputs": [
    {
     "name": "stdout",
     "output_type": "stream",
     "text": [
      "Element at index 0: 1\n",
      "Element at index 1: 2\n",
      "Element at last index: 5\n",
      "Element at second last index: 4\n"
     ]
    }
   ],
   "source": [
    "## indexing a 1D array\n",
    "array = np.array([1, 2, 3, 4, 5])\n",
    "print(\"Element at index 0:\", array[0])\n",
    "print(\"Element at index 1:\", array[1])\n",
    "print(\"Element at last index:\", array[-1])\n",
    "print(\"Element at second last index:\", array[-2])"
   ]
  },
  {
   "cell_type": "code",
   "execution_count": 227,
   "metadata": {},
   "outputs": [
    {
     "name": "stdout",
     "output_type": "stream",
     "text": [
      "Element at row 0 and column 0: 1\n",
      "Element at row 0 and column 1: 2\n",
      "Elements in last row: [4 5 6]\n"
     ]
    }
   ],
   "source": [
    "## indexing a 2D array\n",
    "array = np.array([[1, 2, 3], [4, 5, 6]])\n",
    "print(\"Element at row 0 and column 0:\", array[0, 0])\n",
    "print(\"Element at row 0 and column 1:\", array[0, 1])\n",
    "print(\"Elements in last row:\", array[-1])"
   ]
  },
  {
   "cell_type": "markdown",
   "metadata": {},
   "source": [
    "#### Slicing"
   ]
  },
  {
   "cell_type": "markdown",
   "metadata": {},
   "source": [
    "* Slicing allows you to access a range of elements in an array. The syntax for slicing is `start:stop:step`."
   ]
  },
  {
   "cell_type": "code",
   "execution_count": 228,
   "metadata": {},
   "outputs": [
    {
     "name": "stdout",
     "output_type": "stream",
     "text": [
      "Elements from index 0 to 1: [1 2]\n",
      "Elements from index 1: [2 3 4 5]\n",
      "Elements up to index 3: [1 2 3]\n",
      "Alternate elements starting from index 0: [1 3 5]\n"
     ]
    }
   ],
   "source": [
    "## slicing a 1D array\n",
    "array = np.array([1, 2, 3, 4, 5])\n",
    "print(\"Elements from index 0 to 1:\", array[0:2])\n",
    "print(\"Elements from index 1:\", array[1:])\n",
    "print(\"Elements up to index 3:\", array[:3])\n",
    "print(\"Alternate elements starting from index 0:\", array[0::2])"
   ]
  },
  {
   "cell_type": "code",
   "execution_count": 229,
   "metadata": {},
   "outputs": [
    {
     "name": "stdout",
     "output_type": "stream",
     "text": [
      "Elements from rows 0 to 1 and columns 0 to 1:\n",
      " [[1 2]\n",
      " [4 5]]\n",
      "Elements from rows 0 to 1 and all columns:\n",
      " [[1 2 3]\n",
      " [4 5 6]]\n",
      "Elements from all rows and columns 1 to 2:\n",
      " [[2 3]\n",
      " [5 6]]\n",
      "Elements from all rows and first column:\n",
      " [1 4]\n",
      "Elements from rows 0 to 1 and alternate columns:\n",
      " [[1 3]\n",
      " [4 6]]\n",
      "Elements from last row and all columns:\n",
      " [4 5 6]\n",
      "Element from last row and last column:\n",
      " 6\n"
     ]
    }
   ],
   "source": [
    "## slicing a 2D array\n",
    "array = np.array([[1, 2, 3], [4, 5, 6]])\n",
    "print(\"Elements from rows 0 to 1 and columns 0 to 1:\\n\", array[0:2, 0:2])\n",
    "print(\"Elements from rows 0 to 1 and all columns:\\n\", array[0:2, :])\n",
    "print(\"Elements from all rows and columns 1 to 2:\\n\", array[:, 1:])\n",
    "print(\"Elements from all rows and first column:\\n\", array[:, 0])\n",
    "print(\"Elements from rows 0 to 1 and alternate columns:\\n\", array[0:2, 0::2])\n",
    "print(\"Elements from last row and all columns:\\n\", array[-1])\n",
    "print(\"Element from last row and last column:\\n\", array[-1, -1])"
   ]
  },
  {
   "cell_type": "markdown",
   "metadata": {},
   "source": [
    "#### Fancy Indexing"
   ]
  },
  {
   "cell_type": "markdown",
   "metadata": {},
   "source": [
    "* Fancy indexing allows you to access multiple elements at once using arrays of indices."
   ]
  },
  {
   "cell_type": "code",
   "execution_count": 230,
   "metadata": {},
   "outputs": [
    {
     "name": "stdout",
     "output_type": "stream",
     "text": [
      "Elements at indices 1 and 3: [2 4]\n"
     ]
    }
   ],
   "source": [
    "## fancy indexing a 1D array\n",
    "array = np.array([1, 2, 3, 4, 5])\n",
    "indices = [1, 3]\n",
    "print(\"Elements at indices 1 and 3:\", array[indices])"
   ]
  },
  {
   "cell_type": "code",
   "execution_count": 231,
   "metadata": {},
   "outputs": [
    {
     "name": "stdout",
     "output_type": "stream",
     "text": [
      "Elements at row 1 and columns 0 and 2:\n",
      " [4 6]\n",
      "All elements at columns 0 and 2:\n",
      " [[1 3]\n",
      " [4 6]]\n",
      "All elements at row 1:\n",
      " [[4 5 6]]\n"
     ]
    }
   ],
   "source": [
    "## fancy indexing a 2D array\n",
    "array = np.array([[1, 2, 3], [4, 5, 6]])\n",
    "row_indices = [1]\n",
    "column_indices = [0, 2]\n",
    "print(\"Elements at row 1 and columns 0 and 2:\\n\", array[row_indices, column_indices])\n",
    "print(\"All elements at columns 0 and 2:\\n\", array[:, column_indices])\n",
    "print(\"All elements at row 1:\\n\", array[row_indices, :])"
   ]
  },
  {
   "cell_type": "markdown",
   "metadata": {},
   "source": [
    "#### Boolean Indexing"
   ]
  },
  {
   "cell_type": "markdown",
   "metadata": {},
   "source": [
    "* Boolean indexing allows you to select elements based on conditions."
   ]
  },
  {
   "cell_type": "code",
   "execution_count": 232,
   "metadata": {},
   "outputs": [
    {
     "name": "stdout",
     "output_type": "stream",
     "text": [
      "Elements greater than 2: [3 4 5]\n"
     ]
    }
   ],
   "source": [
    "## boolean indexing a 1D array\n",
    "array = np.array([1, 2, 3, 4, 5])\n",
    "mask = array > 2\n",
    "print(\"Elements greater than 2:\", array[mask])"
   ]
  },
  {
   "cell_type": "code",
   "execution_count": 233,
   "metadata": {},
   "outputs": [
    {
     "name": "stdout",
     "output_type": "stream",
     "text": [
      "Elements greater than 2:\n",
      " [3 4 5 6]\n",
      "Elements greater than 2 in first row:\n",
      " [3]\n"
     ]
    }
   ],
   "source": [
    "## boolean indexing a 2D array\n",
    "array = np.array([[1, 2, 3], [4, 5, 6]])\n",
    "mask = array > 2\n",
    "print(\"Elements greater than 2:\\n\", array[mask])\n",
    "print(\"Elements greater than 2 in first row:\\n\", array[0, mask[0]])"
   ]
  },
  {
   "cell_type": "markdown",
   "metadata": {},
   "source": [
    "## Array Manipulation"
   ]
  },
  {
   "cell_type": "markdown",
   "metadata": {},
   "source": [
    "### Reshaping Arrays"
   ]
  },
  {
   "cell_type": "markdown",
   "metadata": {},
   "source": [
    "* You can change the shape of an array using the reshape method."
   ]
  },
  {
   "cell_type": "code",
   "execution_count": 234,
   "metadata": {},
   "outputs": [
    {
     "name": "stdout",
     "output_type": "stream",
     "text": [
      "Original array:\n",
      " [1 2 3 4 5 6]\n",
      "Reshaped array:\n",
      " [[1 2 3]\n",
      " [4 5 6]]\n",
      "Shape of the original array: (6,)\n",
      "Shape of the reshaped array: (2, 3)\n"
     ]
    }
   ],
   "source": [
    "## reshaping a 1D array\n",
    "array = np.array([1, 2, 3, 4, 5, 6])\n",
    "reshaped_array = array.reshape(2, 3)\n",
    "print(\"Original array:\\n\", array)\n",
    "print(\"Reshaped array:\\n\", reshaped_array)\n",
    "print(\"Shape of the original array:\", array.shape)\n",
    "print(\"Shape of the reshaped array:\", reshaped_array.shape)"
   ]
  },
  {
   "cell_type": "code",
   "execution_count": 235,
   "metadata": {},
   "outputs": [
    {
     "name": "stdout",
     "output_type": "stream",
     "text": [
      "Original array:\n",
      " [[1 2 3]\n",
      " [4 5 6]]\n",
      "Reshaped array:\n",
      " [1 2 3 4 5 6]\n",
      "Shape of the original array: (2, 3)\n",
      "Shape of the reshaped array: (6,)\n"
     ]
    }
   ],
   "source": [
    "## reshaping a 2D array\n",
    "array = np.array([[1, 2, 3], [4, 5, 6]])\n",
    "## we can only reshape to a size that has the same number of elements\n",
    "reshaped_array = array.reshape(6)\n",
    "print(\"Original array:\\n\", array)\n",
    "print(\"Reshaped array:\\n\", reshaped_array)\n",
    "print(\"Shape of the original array:\", array.shape)\n",
    "print(\"Shape of the reshaped array:\", reshaped_array.shape)\n"
   ]
  },
  {
   "cell_type": "code",
   "execution_count": 236,
   "metadata": {},
   "outputs": [
    {
     "name": "stdout",
     "output_type": "stream",
     "text": [
      "Original array:\n",
      " [1 2 3 4 5 6]\n",
      "Reshaped array:\n",
      " [[[1 2 3]]\n",
      "\n",
      " [[4 5 6]]]\n",
      "Shape of the original array: (6,)\n",
      "Shape of the reshaped array: (2, 1, 3)\n"
     ]
    }
   ],
   "source": [
    "## reshaping 1d to 3d\n",
    "array = np.array([1, 2, 3, 4, 5, 6])\n",
    "reshaped_array = array.reshape(2, 1, 3)\n",
    "print(\"Original array:\\n\", array)\n",
    "print(\"Reshaped array:\\n\", reshaped_array)\n",
    "print(\"Shape of the original array:\", array.shape)\n",
    "print(\"Shape of the reshaped array:\", reshaped_array.shape)"
   ]
  },
  {
   "cell_type": "markdown",
   "metadata": {},
   "source": [
    "### Transposing Arrays"
   ]
  },
  {
   "cell_type": "markdown",
   "metadata": {},
   "source": [
    "* Transposing an array means to interchange the rows and columns of the array.\n",
    "* Transpose changes the axes of an array. For 2D arrays, it switches rows and columns."
   ]
  },
  {
   "cell_type": "code",
   "execution_count": 237,
   "metadata": {},
   "outputs": [
    {
     "name": "stdout",
     "output_type": "stream",
     "text": [
      "Original array:\n",
      " [[1 2 3]\n",
      " [4 5 6]]\n",
      "Transposed array:\n",
      " [[1 4]\n",
      " [2 5]\n",
      " [3 6]]\n",
      "original array shape: (2, 3)\n",
      "transposed array shape: (3, 2)\n"
     ]
    }
   ],
   "source": [
    "## transposing a 2D array\n",
    "array = np.array([[1, 2, 3], [4, 5, 6]])\n",
    "transposed_array = array.T\n",
    "print(\"Original array:\\n\", array)\n",
    "print(\"Transposed array:\\n\", transposed_array)\n",
    "print(\"original array shape:\", array.shape)\n",
    "print(\"transposed array shape:\", transposed_array.shape)\n"
   ]
  },
  {
   "cell_type": "markdown",
   "metadata": {},
   "source": [
    "### Array Concatenation & Stacking"
   ]
  },
  {
   "cell_type": "markdown",
   "metadata": {},
   "source": [
    "* You can combine multiple arrays using concatenation and stacking."
   ]
  },
  {
   "cell_type": "code",
   "execution_count": 238,
   "metadata": {},
   "outputs": [
    {
     "name": "stdout",
     "output_type": "stream",
     "text": [
      "Array 1: [1 2 3]\n",
      "Array 2: [4 5 6]\n",
      "Concatenated array: [1 2 3 4 5 6]\n"
     ]
    }
   ],
   "source": [
    "## concatenating 1D arrays\n",
    "array1 = np.array([1, 2, 3])\n",
    "array2 = np.array([4, 5, 6])\n",
    "concatenated_array = np.concatenate([array1, array2])\n",
    "print(\"Array 1:\", array1)\n",
    "print(\"Array 2:\", array2)\n",
    "print(\"Concatenated array:\", concatenated_array)"
   ]
  },
  {
   "cell_type": "markdown",
   "metadata": {},
   "source": [
    "* 2D concatenation only works if the arrays have the same number of rows or columns.\n"
   ]
  },
  {
   "cell_type": "code",
   "execution_count": 239,
   "metadata": {},
   "outputs": [
    {
     "name": "stdout",
     "output_type": "stream",
     "text": [
      "Array 1:\n",
      " [[1 2 3]\n",
      " [4 5 6]]\n",
      "Array 2:\n",
      " [[ 7  8  9]\n",
      " [10 11 12]]\n",
      "Concatenated array:\n",
      " [[ 1  2  3]\n",
      " [ 4  5  6]\n",
      " [ 7  8  9]\n",
      " [10 11 12]]\n"
     ]
    }
   ],
   "source": [
    "## concatenating 2D arrays\n",
    "array1 = np.array([[1, 2, 3], [4, 5, 6]])\n",
    "array2 = np.array([[7, 8, 9], [10, 11, 12]])\n",
    "concatenated_array = np.concatenate([array1, array2])\n",
    "print(\"Array 1:\\n\", array1)\n",
    "print(\"Array 2:\\n\", array2)\n",
    "print(\"Concatenated array:\\n\", concatenated_array)\n"
   ]
  },
  {
   "cell_type": "code",
   "execution_count": 240,
   "metadata": {},
   "outputs": [
    {
     "name": "stdout",
     "output_type": "stream",
     "text": [
      "Array 1:\n",
      " [[1 2 3]\n",
      " [4 5 6]]\n",
      "Array 2:\n",
      " [[ 7  8  9]\n",
      " [10 11 12]]\n",
      "Concatenated array:\n",
      " [[ 1  2  3  7  8  9]\n",
      " [ 4  5  6 10 11 12]]\n"
     ]
    }
   ],
   "source": [
    "## concatenating 2D along columns using axis\n",
    "array1 = np.array([[1, 2, 3], [4, 5, 6]])\n",
    "array2 = np.array([[7, 8, 9], [10, 11, 12]])\n",
    "## default axis is 0 which concatenates along rows\n",
    "concatenated_array = np.concatenate([array1, array2], axis=1)\n",
    "print(\"Array 1:\\n\", array1)\n",
    "print(\"Array 2:\\n\", array2)\n",
    "print(\"Concatenated array:\\n\", concatenated_array)\n"
   ]
  },
  {
   "cell_type": "markdown",
   "metadata": {},
   "source": [
    "#### Vertical Stacking"
   ]
  },
  {
   "cell_type": "code",
   "execution_count": 241,
   "metadata": {},
   "outputs": [
    {
     "name": "stdout",
     "output_type": "stream",
     "text": [
      "Array 1:\n",
      " [[1 2 3]\n",
      " [4 5 6]]\n",
      "Array 2:\n",
      " [[ 7  8  9]\n",
      " [10 11 12]]\n",
      "Stacked array:\n",
      " [[ 1  2  3]\n",
      " [ 4  5  6]\n",
      " [ 7  8  9]\n",
      " [10 11 12]]\n"
     ]
    }
   ],
   "source": [
    "## vertical stacking of 2D arrays sing vstack\n",
    "array1 = np.array([[1, 2, 3], [4, 5, 6]])\n",
    "array2 = np.array([[7, 8, 9], [10, 11, 12]])\n",
    "stacked_array = np.vstack([array1, array2])\n",
    "print(\"Array 1:\\n\", array1)\n",
    "print(\"Array 2:\\n\", array2)\n",
    "print(\"Stacked array:\\n\", stacked_array)\n"
   ]
  },
  {
   "cell_type": "code",
   "execution_count": 242,
   "metadata": {},
   "outputs": [
    {
     "name": "stdout",
     "output_type": "stream",
     "text": [
      "Array 1:\n",
      " [1 2 3]\n",
      "Array 2:\n",
      " [4 5 6]\n",
      "Stacked array:\n",
      " [[1 2 3]\n",
      " [4 5 6]]\n"
     ]
    }
   ],
   "source": [
    "## vertical stacking 1D arrays using vstack\n",
    "array1 = np.array([1, 2, 3])\n",
    "array2 = np.array([4, 5, 6])\n",
    "stacked_array = np.vstack([array1, array2])\n",
    "print(\"Array 1:\\n\", array1)\n",
    "print(\"Array 2:\\n\", array2)\n",
    "print(\"Stacked array:\\n\", stacked_array)"
   ]
  },
  {
   "cell_type": "code",
   "execution_count": 243,
   "metadata": {},
   "outputs": [
    {
     "name": "stdout",
     "output_type": "stream",
     "text": [
      "Array 1:\n",
      " [[1 2 3]\n",
      " [4 5 6]]\n",
      "Array 2:\n",
      " [[ 7  8  9]\n",
      " [10 11 12]]\n",
      "Stacked array:\n",
      " [[[ 1  2  3]\n",
      "  [ 7  8  9]]\n",
      "\n",
      " [[ 4  5  6]\n",
      "  [10 11 12]]]\n"
     ]
    }
   ],
   "source": [
    "## vertical stacking 2D arrays using stack function and axis 1\n",
    "array1 = np.array([[1, 2, 3], [4, 5, 6]])\n",
    "array2 = np.array([[7, 8, 9], [10, 11, 12]])\n",
    "stacked_array = np.stack((array1, array2), axis=1)\n",
    "print(\"Array 1:\\n\", array1)\n",
    "print(\"Array 2:\\n\", array2)\n",
    "print(\"Stacked array:\\n\", stacked_array)"
   ]
  },
  {
   "cell_type": "code",
   "execution_count": 244,
   "metadata": {},
   "outputs": [
    {
     "name": "stdout",
     "output_type": "stream",
     "text": [
      "Array 1: [1 2 3]\n",
      "Array 2: [4 5 6]\n",
      "Stacked array:\n",
      " [[1 4]\n",
      " [2 5]\n",
      " [3 6]]\n"
     ]
    }
   ],
   "source": [
    "## vertical stacking 1D array using stack function and axis 1 \n",
    "array1 = np.array([1, 2, 3])\n",
    "array2 = np.array([4, 5, 6])\n",
    "stacked_array = np.stack((array1, array2), axis=1)\n",
    "print(\"Array 1:\", array1)\n",
    "print(\"Array 2:\", array2)\n",
    "print(\"Stacked array:\\n\", stacked_array)"
   ]
  },
  {
   "cell_type": "markdown",
   "metadata": {},
   "source": [
    "#### Horizontal Stacking"
   ]
  },
  {
   "cell_type": "code",
   "execution_count": 245,
   "metadata": {},
   "outputs": [
    {
     "name": "stdout",
     "output_type": "stream",
     "text": [
      "Array 1:\n",
      " [[1 2]\n",
      " [3 4]]\n",
      "Array 2:\n",
      " [[5 6]\n",
      " [7 8]]\n",
      "Stacked array:\n",
      " [[1 2 5 6]\n",
      " [3 4 7 8]]\n"
     ]
    }
   ],
   "source": [
    "## horizontal stacking of 2D arrays using hstack\n",
    "array1 = np.array([[1, 2], [3, 4]])\n",
    "array2 = np.array([[5, 6], [7, 8]])\n",
    "stacked_array = np.hstack((array1, array2))\n",
    "print(\"Array 1:\\n\", array1)\n",
    "print(\"Array 2:\\n\", array2)\n",
    "print(\"Stacked array:\\n\", stacked_array)"
   ]
  },
  {
   "cell_type": "code",
   "execution_count": 246,
   "metadata": {},
   "outputs": [
    {
     "name": "stdout",
     "output_type": "stream",
     "text": [
      "Array 1: [1 2 3]\n",
      "Array 2: [4 5 6]\n",
      "Stacked array: [1 2 3 4 5 6]\n"
     ]
    }
   ],
   "source": [
    "## horizontal stacking of 1D arrays using hstack\n",
    "array1 = np.array([1, 2, 3])\n",
    "array2 = np.array([4, 5, 6])\n",
    "stacked_array = np.hstack((array1, array2))\n",
    "print(\"Array 1:\", array1)\n",
    "print(\"Array 2:\", array2)\n",
    "print(\"Stacked array:\", stacked_array)"
   ]
  },
  {
   "cell_type": "code",
   "execution_count": 247,
   "metadata": {},
   "outputs": [
    {
     "name": "stdout",
     "output_type": "stream",
     "text": [
      "Array 1:\n",
      " [[1 2 3]\n",
      " [4 5 6]]\n",
      "Array 2:\n",
      " [[ 7  8  9]\n",
      " [10 11 12]]\n",
      "Stacked array:\n",
      " [[[ 1  2  3]\n",
      "  [ 4  5  6]]\n",
      "\n",
      " [[ 7  8  9]\n",
      "  [10 11 12]]]\n"
     ]
    }
   ],
   "source": [
    "## horizontal stacking 2D arrays using stack function and axis\n",
    "array1 = np.array([[1, 2, 3], [4, 5, 6]])\n",
    "array2 = np.array([[7, 8, 9], [10, 11, 12]])\n",
    "stacked_array = np.stack((array1, array2), axis=0)\n",
    "print(\"Array 1:\\n\", array1)\n",
    "print(\"Array 2:\\n\", array2)\n",
    "print(\"Stacked array:\\n\", stacked_array)"
   ]
  },
  {
   "cell_type": "code",
   "execution_count": 248,
   "metadata": {},
   "outputs": [
    {
     "name": "stdout",
     "output_type": "stream",
     "text": [
      "Array 1: [1 2 3]\n",
      "Array 2: [4 5 6]\n",
      "Stacked array:\n",
      " [[1 2 3]\n",
      " [4 5 6]]\n"
     ]
    }
   ],
   "source": [
    "## horizontal stacking 1D using stack function and axis\n",
    "array1 = np.array([1, 2, 3])\n",
    "array2 = np.array([4, 5, 6])\n",
    "stacked_array = np.stack((array1, array2), axis=0)\n",
    "print(\"Array 1:\", array1)\n",
    "print(\"Array 2:\", array2)\n",
    "print(\"Stacked array:\\n\", stacked_array)"
   ]
  },
  {
   "cell_type": "markdown",
   "metadata": {},
   "source": [
    "### Splitting Arrays"
   ]
  },
  {
   "cell_type": "markdown",
   "metadata": {},
   "source": [
    "* You can split an array into multiple sub-arrays using split."
   ]
  },
  {
   "cell_type": "code",
   "execution_count": 249,
   "metadata": {},
   "outputs": [
    {
     "name": "stdout",
     "output_type": "stream",
     "text": [
      "Original array: [1 2 3 4 5 6]\n",
      "Split arrays: [array([1, 2, 3]), array([4, 5, 6])]\n"
     ]
    }
   ],
   "source": [
    "## splitting a 1D array\n",
    "array = np.array([1, 2, 3, 4, 5, 6])\n",
    "## split the array into 2 equal parts\n",
    "split_arrays = np.split(array, 2)\n",
    "print(\"Original array:\", array)\n",
    "print(\"Split arrays:\", split_arrays)\n"
   ]
  },
  {
   "cell_type": "code",
   "execution_count": 250,
   "metadata": {},
   "outputs": [
    {
     "name": "stdout",
     "output_type": "stream",
     "text": [
      "Original array:\n",
      " [[1 2 3]\n",
      " [4 5 6]]\n",
      "Split arrays: [array([[1, 2, 3]]), array([[4, 5, 6]])]\n"
     ]
    }
   ],
   "source": [
    "## splitting a 2D array\n",
    "array = np.array([[1, 2, 3], [4, 5, 6]])\n",
    "## split the array into 2 equal parts along rows\n",
    "split_arrays = np.split(array, 2)\n",
    "print(\"Original array:\\n\", array)\n",
    "print(\"Split arrays:\", split_arrays)"
   ]
  },
  {
   "cell_type": "code",
   "execution_count": 251,
   "metadata": {},
   "outputs": [
    {
     "name": "stdout",
     "output_type": "stream",
     "text": [
      "Original array:\n",
      " [[1 2 3]\n",
      " [4 5 6]]\n",
      "Split arrays: [array([[1],\n",
      "       [4]]), array([[2],\n",
      "       [5]]), array([[3],\n",
      "       [6]])]\n",
      "First split array: [[1]\n",
      " [4]]\n"
     ]
    }
   ],
   "source": [
    "## splitting a 2D array along columns\n",
    "array = np.array([[1, 2, 3], [4, 5, 6]])\n",
    "## split the array into 3 equal parts along columns\n",
    "split_arrays = np.split(array, 3, axis=1)\n",
    "print(\"Original array:\\n\", array)\n",
    "print(\"Split arrays:\", split_arrays)\n",
    "print(\"First split array:\", split_arrays[0])"
   ]
  },
  {
   "cell_type": "markdown",
   "metadata": {},
   "source": [
    "### Adding/Removing Elements"
   ]
  },
  {
   "cell_type": "markdown",
   "metadata": {},
   "source": [
    "#### Appending Elements"
   ]
  },
  {
   "cell_type": "code",
   "execution_count": 252,
   "metadata": {},
   "outputs": [
    {
     "name": "stdout",
     "output_type": "stream",
     "text": [
      "Original array: [1 2 3]\n",
      "Appended array: [1 2 3 4 5 6]\n"
     ]
    }
   ],
   "source": [
    "## appending to a 1D array\n",
    "array = np.array([1, 2, 3])\n",
    "appended_array = np.append(array, [4, 5, 6])\n",
    "print(\"Original array:\", array)\n",
    "print(\"Appended array:\", appended_array)"
   ]
  },
  {
   "cell_type": "code",
   "execution_count": 253,
   "metadata": {},
   "outputs": [
    {
     "name": "stdout",
     "output_type": "stream",
     "text": [
      "Original array:\n",
      " [[1 2 3]\n",
      " [4 5 6]]\n",
      "Appended array:\n",
      " [[1 2 3]\n",
      " [4 5 6]\n",
      " [7 8 9]]\n",
      "Original array:\n",
      " [[1 2 3]\n",
      " [4 5 6]]\n",
      "Appended array:\n",
      " [[1 2 3 7]\n",
      " [4 5 6 8]]\n"
     ]
    }
   ],
   "source": [
    "## appending to a 2D array\n",
    "array = np.array([[1, 2, 3], [4, 5, 6]])\n",
    "## append a row\n",
    "appended_array = np.append(array, [[7, 8, 9]], axis=0)\n",
    "print(\"Original array:\\n\", array)\n",
    "print(\"Appended array:\\n\", appended_array)\n",
    "\n",
    "## appending to a 2D array along columns\n",
    "array = np.array([[1, 2, 3], [4, 5, 6]])\n",
    "## append a column\n",
    "appended_array = np.append(array, [[7], [8]], axis=1)\n",
    "print(\"Original array:\\n\", array)\n",
    "print(\"Appended array:\\n\", appended_array)\n"
   ]
  },
  {
   "cell_type": "markdown",
   "metadata": {},
   "source": [
    "#### Inserting Elements"
   ]
  },
  {
   "cell_type": "code",
   "execution_count": 254,
   "metadata": {},
   "outputs": [
    {
     "name": "stdout",
     "output_type": "stream",
     "text": [
      "Original array: [1 2 5 6]\n",
      "Inserted array: [1 2 3 4 5 6]\n"
     ]
    }
   ],
   "source": [
    "## inserting into a 1D array\n",
    "array = np.array([1, 2, 5, 6])\n",
    "## insert 3 and 4 between 2 and 5\n",
    "inserted_array = np.insert(array, 2, [3, 4])\n",
    "print(\"Original array:\", array)\n",
    "print(\"Inserted array:\", inserted_array)"
   ]
  },
  {
   "cell_type": "code",
   "execution_count": 255,
   "metadata": {},
   "outputs": [
    {
     "name": "stdout",
     "output_type": "stream",
     "text": [
      "Original array:\n",
      " [[1 2 3]\n",
      " [7 8 9]]\n",
      "Inserted array:\n",
      " [[1 2 3]\n",
      " [4 5 6]\n",
      " [7 8 9]]\n"
     ]
    }
   ],
   "source": [
    "## inserting into a 2D array\n",
    "array = np.array([[1, 2, 3], [7, 8, 9]])\n",
    "## insert a row between the 2 rows\n",
    "inserted_array = np.insert(array, 1, [[4, 5, 6]], axis=0)\n",
    "print(\"Original array:\\n\", array)\n",
    "print(\"Inserted array:\\n\", inserted_array)"
   ]
  },
  {
   "cell_type": "code",
   "execution_count": 256,
   "metadata": {},
   "outputs": [
    {
     "name": "stdout",
     "output_type": "stream",
     "text": [
      "Original array:\n",
      " [[1 2 3]\n",
      " [7 8 9]]\n",
      "Inserved array:\n",
      " [[1 4 2 3]\n",
      " [7 5 8 9]]\n"
     ]
    }
   ],
   "source": [
    "## inserting into a 2D array along columns\n",
    "array = np.array([[1, 2, 3], [7, 8, 9]])\n",
    "## insert a column between the 2 columns\n",
    "inserted_array = np.insert(array, 1, [[4,5]], axis=1)\n",
    "print(\"Original array:\\n\", array)\n",
    "print(\"Inserved array:\\n\", inserted_array)"
   ]
  },
  {
   "cell_type": "markdown",
   "metadata": {},
   "source": [
    "#### Deleting Elements"
   ]
  },
  {
   "cell_type": "code",
   "execution_count": 257,
   "metadata": {},
   "outputs": [
    {
     "name": "stdout",
     "output_type": "stream",
     "text": [
      "Original array: [1 2 3 4 5 6]\n",
      "Deleted array: [1 2 4 5 6]\n"
     ]
    }
   ],
   "source": [
    "## deleting from a 1D array\n",
    "array = np.array([1, 2, 3, 4, 5, 6])\n",
    "## delete the element at index 2\n",
    "deleted_array = np.delete(array, 2)\n",
    "print(\"Original array:\", array)\n",
    "print(\"Deleted array:\", deleted_array)\n"
   ]
  },
  {
   "cell_type": "code",
   "execution_count": 258,
   "metadata": {},
   "outputs": [
    {
     "name": "stdout",
     "output_type": "stream",
     "text": [
      "Original array:\n",
      " [[1 2 3]\n",
      " [4 5 6]]\n",
      "Deleted array:\n",
      " [[1 2 3]]\n"
     ]
    }
   ],
   "source": [
    "## deleting from a 2D array\n",
    "array = np.array([[1, 2, 3], [4, 5, 6]])\n",
    "## delete the row at index 1\n",
    "deleted_array = np.delete(array, 1, axis=0)\n",
    "print(\"Original array:\\n\", array)\n",
    "print(\"Deleted array:\\n\", deleted_array)\n"
   ]
  },
  {
   "cell_type": "code",
   "execution_count": 259,
   "metadata": {},
   "outputs": [
    {
     "name": "stdout",
     "output_type": "stream",
     "text": [
      "Original array:\n",
      " [[1 2 3]\n",
      " [4 5 6]]\n",
      "Deleted array:\n",
      " [[1 3]\n",
      " [4 6]]\n"
     ]
    }
   ],
   "source": [
    "## deleting from a 2D array along columns\n",
    "array = np.array([[1, 2, 3], [4, 5, 6]])\n",
    "## delete the column at index 1\n",
    "deleted_array = np.delete(array, 1, axis=1)\n",
    "print(\"Original array:\\n\", array)\n",
    "print(\"Deleted array:\\n\", deleted_array)\n"
   ]
  },
  {
   "cell_type": "markdown",
   "metadata": {},
   "source": [
    "### Copying Arrays"
   ]
  },
  {
   "cell_type": "markdown",
   "metadata": {},
   "source": [
    "* Copying arrays can be done with `copy` to create a deep copy, ensuring the original array is not modified."
   ]
  },
  {
   "cell_type": "code",
   "execution_count": 260,
   "metadata": {},
   "outputs": [
    {
     "name": "stdout",
     "output_type": "stream",
     "text": [
      "Original array: [1 2 3]\n",
      "Copied array: [0 2 3]\n"
     ]
    }
   ],
   "source": [
    "## copying a 1D array\n",
    "array = np.array([1, 2, 3])\n",
    "copied_array = np.copy(array)\n",
    "\n",
    "## adding an element to the copied array will not affect the original array\n",
    "copied_array[0] = 0\n",
    "\n",
    "print(\"Original array:\", array)\n",
    "print(\"Copied array:\", copied_array)\n"
   ]
  },
  {
   "cell_type": "markdown",
   "metadata": {},
   "source": [
    "## Array Operations"
   ]
  },
  {
   "cell_type": "markdown",
   "metadata": {},
   "source": [
    "### Basic Operations"
   ]
  },
  {
   "cell_type": "markdown",
   "metadata": {},
   "source": [
    "* NumPy supports element-wise arithmetic operations."
   ]
  },
  {
   "cell_type": "code",
   "execution_count": 261,
   "metadata": {},
   "outputs": [],
   "source": [
    "## create 2 arrays for arithmetic operations\n",
    "array1 = np.array([1, 2, 3])\n",
    "array2 = np.array([4, 5, 6])"
   ]
  },
  {
   "cell_type": "markdown",
   "metadata": {},
   "source": [
    "#### Addition"
   ]
  },
  {
   "cell_type": "code",
   "execution_count": 262,
   "metadata": {},
   "outputs": [
    {
     "name": "stdout",
     "output_type": "stream",
     "text": [
      "Element-wise addition: [5 7 9]\n"
     ]
    }
   ],
   "source": [
    "## element-wise addition\n",
    "addition = array1 + array2\n",
    "print(\"Element-wise addition:\", addition)"
   ]
  },
  {
   "cell_type": "markdown",
   "metadata": {},
   "source": [
    "#### Substraction"
   ]
  },
  {
   "cell_type": "code",
   "execution_count": 263,
   "metadata": {},
   "outputs": [
    {
     "name": "stdout",
     "output_type": "stream",
     "text": [
      "Element-wise subtraction: [-3 -3 -3]\n"
     ]
    }
   ],
   "source": [
    "## element-wise subtraction\n",
    "subtraction = array1 - array2\n",
    "print(\"Element-wise subtraction:\", subtraction)"
   ]
  },
  {
   "cell_type": "markdown",
   "metadata": {},
   "source": [
    "#### Multiplication"
   ]
  },
  {
   "cell_type": "code",
   "execution_count": 264,
   "metadata": {},
   "outputs": [
    {
     "name": "stdout",
     "output_type": "stream",
     "text": [
      "Element-wise multiplication: [ 4 10 18]\n"
     ]
    }
   ],
   "source": [
    "## element-wise multiplication\n",
    "multiplication = array1 * array2\n",
    "print(\"Element-wise multiplication:\", multiplication)"
   ]
  },
  {
   "cell_type": "markdown",
   "metadata": {},
   "source": [
    "#### Division"
   ]
  },
  {
   "cell_type": "code",
   "execution_count": 265,
   "metadata": {},
   "outputs": [
    {
     "name": "stdout",
     "output_type": "stream",
     "text": [
      "Element-wise division: [0.25 0.4  0.5 ]\n"
     ]
    }
   ],
   "source": [
    "## element-wise division\n",
    "division = array1 / array2\n",
    "print(\"Element-wise division:\", division)"
   ]
  },
  {
   "cell_type": "markdown",
   "metadata": {},
   "source": [
    "#### Square Root"
   ]
  },
  {
   "cell_type": "code",
   "execution_count": 266,
   "metadata": {},
   "outputs": [
    {
     "name": "stdout",
     "output_type": "stream",
     "text": [
      "Element-wise square root: [1.         1.41421356 1.73205081]\n"
     ]
    }
   ],
   "source": [
    "## element-wise square root\n",
    "square_root = np.sqrt(array1)\n",
    "print(\"Element-wise square root:\", square_root)"
   ]
  },
  {
   "cell_type": "markdown",
   "metadata": {},
   "source": [
    "#### Exponential"
   ]
  },
  {
   "cell_type": "code",
   "execution_count": 267,
   "metadata": {},
   "outputs": [
    {
     "name": "stdout",
     "output_type": "stream",
     "text": [
      "Element-wise exponentiation: [ 2.71828183  7.3890561  20.08553692]\n"
     ]
    }
   ],
   "source": [
    "## element-wise exponentiation\n",
    "exponentiation = np.exp(array1)\n",
    "print(\"Element-wise exponentiation:\", exponentiation)"
   ]
  },
  {
   "cell_type": "markdown",
   "metadata": {},
   "source": [
    "#### Sine"
   ]
  },
  {
   "cell_type": "code",
   "execution_count": 268,
   "metadata": {},
   "outputs": [
    {
     "name": "stdout",
     "output_type": "stream",
     "text": [
      "Element-wise sine: [0.84147098 0.90929743 0.14112001]\n"
     ]
    }
   ],
   "source": [
    "## element-wise sine\n",
    "sine = np.sin(array1)\n",
    "print(\"Element-wise sine:\", sine)"
   ]
  },
  {
   "cell_type": "markdown",
   "metadata": {},
   "source": [
    "### Statistical Operations"
   ]
  },
  {
   "cell_type": "markdown",
   "metadata": {},
   "source": [
    "* Important to note here, `axis` works slightly different than our earlier interpretation of rows and columns.\n",
    "* For following functions `axis` decided which axis to perform the operation on. So if `axis=0`, the operation will be performed on the rows and output will be same number of columns. If `axis=1`, the operation will be performed on the columns and output will be same number of rows."
   ]
  },
  {
   "cell_type": "code",
   "execution_count": 269,
   "metadata": {},
   "outputs": [],
   "source": [
    "## sample 1D array for statistical operations\n",
    "array_1d = np.array([1, 2, 3, 4, 5])\n",
    "\n",
    "## sample 2D array for statistical operations\n",
    "array_2d = np.array([[-1, 2, 3], [4, 5, 6]])"
   ]
  },
  {
   "cell_type": "markdown",
   "metadata": {},
   "source": [
    "#### Mininum"
   ]
  },
  {
   "cell_type": "code",
   "execution_count": 270,
   "metadata": {},
   "outputs": [
    {
     "name": "stdout",
     "output_type": "stream",
     "text": [
      "Minimum of 1D array: 1\n",
      "Minimum of 2D array: -1\n"
     ]
    }
   ],
   "source": [
    "## minimum of a 1D array\n",
    "minimum = np.min(array_1d)\n",
    "print(\"Minimum of 1D array:\", minimum)\n",
    "\n",
    "## minimum of a 2D array\n",
    "minimum = np.min(array_2d)\n",
    "print(\"Minimum of 2D array:\", minimum)"
   ]
  },
  {
   "cell_type": "code",
   "execution_count": 271,
   "metadata": {},
   "outputs": [
    {
     "name": "stdout",
     "output_type": "stream",
     "text": [
      "minimum of 2D array along columns: [-1  4]\n"
     ]
    }
   ],
   "source": [
    "## minimum of a 2D array along columns\n",
    "minimum = np.min(array_2d, axis=1)\n",
    "print(\"minimum of 2D array along columns:\", minimum)"
   ]
  },
  {
   "cell_type": "code",
   "execution_count": 272,
   "metadata": {},
   "outputs": [
    {
     "name": "stdout",
     "output_type": "stream",
     "text": [
      "minimum of 2D array along rows: [-1  2  3]\n"
     ]
    }
   ],
   "source": [
    "## minimum of a 2D array along rows\n",
    "minimum = np.min(array_2d, axis=0)\n",
    "print(\"minimum of 2D array along rows:\", minimum)"
   ]
  },
  {
   "cell_type": "markdown",
   "metadata": {},
   "source": [
    "#### Maximum"
   ]
  },
  {
   "cell_type": "code",
   "execution_count": 273,
   "metadata": {},
   "outputs": [
    {
     "name": "stdout",
     "output_type": "stream",
     "text": [
      "Maximum of 1D array: 5\n",
      "Maximum of 2D array: 6\n"
     ]
    }
   ],
   "source": [
    "## maximum of a 1D array\n",
    "maximum = np.max(array_1d)\n",
    "print(\"Maximum of 1D array:\", maximum)\n",
    "\n",
    "## maximum of a 2D array\n",
    "maximum = np.max(array_2d)\n",
    "print(\"Maximum of 2D array:\", maximum)"
   ]
  },
  {
   "cell_type": "code",
   "execution_count": 274,
   "metadata": {},
   "outputs": [
    {
     "name": "stdout",
     "output_type": "stream",
     "text": [
      "Maximum of 2D array along columns: [3 6]\n"
     ]
    }
   ],
   "source": [
    "## maximum of a 2D array along columns\n",
    "maximum = np.max(array_2d, axis=1)\n",
    "print(\"Maximum of 2D array along columns:\", maximum)"
   ]
  },
  {
   "cell_type": "code",
   "execution_count": 275,
   "metadata": {},
   "outputs": [
    {
     "name": "stdout",
     "output_type": "stream",
     "text": [
      "Maximum of 2D array along rows: [4 5 6]\n"
     ]
    }
   ],
   "source": [
    "## maximum of a 2D array along rows\n",
    "maximum = np.max(array_2d, axis=0)\n",
    "print(\"Maximum of 2D array along rows:\", maximum)"
   ]
  },
  {
   "cell_type": "markdown",
   "metadata": {},
   "source": [
    "#### Mean"
   ]
  },
  {
   "cell_type": "code",
   "execution_count": 276,
   "metadata": {},
   "outputs": [
    {
     "name": "stdout",
     "output_type": "stream",
     "text": [
      "Mean of 1D array: 3.0\n",
      "Mean of 2D array: 3.1666666666666665\n"
     ]
    }
   ],
   "source": [
    "## mean of a 1D array\n",
    "mean = np.mean(array_1d)\n",
    "print(\"Mean of 1D array:\", mean)\n",
    "\n",
    "## mean of a 2D array\n",
    "mean = np.mean(array_2d)\n",
    "print(\"Mean of 2D array:\", mean)"
   ]
  },
  {
   "cell_type": "code",
   "execution_count": 277,
   "metadata": {},
   "outputs": [
    {
     "name": "stdout",
     "output_type": "stream",
     "text": [
      "Mean of 2D array along columns: [1.33333333 5.        ]\n"
     ]
    }
   ],
   "source": [
    "## mean of a 2D array along columns\n",
    "mean = np.mean(array_2d, axis=1)\n",
    "print(\"Mean of 2D array along columns:\", mean)"
   ]
  },
  {
   "cell_type": "code",
   "execution_count": 278,
   "metadata": {},
   "outputs": [
    {
     "name": "stdout",
     "output_type": "stream",
     "text": [
      "Mean of 2D array along rows: [1.5 3.5 4.5]\n"
     ]
    }
   ],
   "source": [
    "## mean of a 2D array along rows\n",
    "mean = np.mean(array_2d, axis=0)\n",
    "print(\"Mean of 2D array along rows:\", mean)\n"
   ]
  },
  {
   "cell_type": "markdown",
   "metadata": {},
   "source": [
    "#### Median"
   ]
  },
  {
   "cell_type": "code",
   "execution_count": 279,
   "metadata": {},
   "outputs": [
    {
     "name": "stdout",
     "output_type": "stream",
     "text": [
      "Median of 1D array: 3.0\n"
     ]
    }
   ],
   "source": [
    "## median of a 1D array\n",
    "median = np.median(array_1d)\n",
    "print(\"Median of 1D array:\", median)"
   ]
  },
  {
   "cell_type": "code",
   "execution_count": 280,
   "metadata": {},
   "outputs": [
    {
     "name": "stdout",
     "output_type": "stream",
     "text": [
      "Median of 2D array: 3.5\n"
     ]
    }
   ],
   "source": [
    "## median of a 2D array\n",
    "median = np.median(array_2d)\n",
    "print(\"Median of 2D array:\", median)"
   ]
  },
  {
   "cell_type": "code",
   "execution_count": 281,
   "metadata": {},
   "outputs": [
    {
     "name": "stdout",
     "output_type": "stream",
     "text": [
      "Median of 2D array along columns: [2. 5.]\n"
     ]
    }
   ],
   "source": [
    "## median of a 2D array along columns \n",
    "median = np.median(array_2d, axis=1)\n",
    "print(\"Median of 2D array along columns:\", median)"
   ]
  },
  {
   "cell_type": "code",
   "execution_count": 282,
   "metadata": {},
   "outputs": [
    {
     "name": "stdout",
     "output_type": "stream",
     "text": [
      "Median of 2D array along rows: [1.5 3.5 4.5]\n"
     ]
    }
   ],
   "source": [
    "## median of a 2D array along rows\n",
    "median = np.median(array_2d, axis=0)\n",
    "print(\"Median of 2D array along rows:\", median)"
   ]
  },
  {
   "cell_type": "markdown",
   "metadata": {},
   "source": [
    "#### Standard Deviation"
   ]
  },
  {
   "cell_type": "code",
   "execution_count": 283,
   "metadata": {},
   "outputs": [
    {
     "name": "stdout",
     "output_type": "stream",
     "text": [
      "Standard deviation of 1D array: 1.4142135623730951\n"
     ]
    }
   ],
   "source": [
    "## standard deviation of a 1D array\n",
    "std_dev = np.std(array_1d)\n",
    "print(\"Standard deviation of 1D array:\", std_dev)"
   ]
  },
  {
   "cell_type": "code",
   "execution_count": 284,
   "metadata": {},
   "outputs": [
    {
     "name": "stdout",
     "output_type": "stream",
     "text": [
      "Standard deviation of 2D array: 2.266911751455907\n"
     ]
    }
   ],
   "source": [
    "## standard deviation of a 2D array\n",
    "std_dev = np.std(array_2d)\n",
    "print(\"Standard deviation of 2D array:\", std_dev)"
   ]
  },
  {
   "cell_type": "code",
   "execution_count": 285,
   "metadata": {},
   "outputs": [
    {
     "name": "stdout",
     "output_type": "stream",
     "text": [
      "Standard deviation of 2D array along columns: [1.69967317 0.81649658]\n"
     ]
    }
   ],
   "source": [
    "## standard deviation of a 2D array along columns\n",
    "std_dev = np.std(array_2d, axis=1)\n",
    "print(\"Standard deviation of 2D array along columns:\", std_dev)"
   ]
  },
  {
   "cell_type": "code",
   "execution_count": 286,
   "metadata": {},
   "outputs": [
    {
     "name": "stdout",
     "output_type": "stream",
     "text": [
      "Standard deviation of 2D array along rows: [2.5 1.5 1.5]\n"
     ]
    }
   ],
   "source": [
    "## standard deviation of a 2D array along rows\n",
    "std_dev = np.std(array_2d, axis=0)\n",
    "print(\"Standard deviation of 2D array along rows:\", std_dev)"
   ]
  },
  {
   "cell_type": "markdown",
   "metadata": {},
   "source": [
    "#### Sum"
   ]
  },
  {
   "cell_type": "code",
   "execution_count": 287,
   "metadata": {},
   "outputs": [
    {
     "name": "stdout",
     "output_type": "stream",
     "text": [
      "Sum of 1D array: 15\n"
     ]
    }
   ],
   "source": [
    "## sum of a 1D array\n",
    "sum = np.sum(array_1d)\n",
    "print(\"Sum of 1D array:\", sum)"
   ]
  },
  {
   "cell_type": "code",
   "execution_count": 288,
   "metadata": {},
   "outputs": [
    {
     "name": "stdout",
     "output_type": "stream",
     "text": [
      "Sum of 2D array: 19\n"
     ]
    }
   ],
   "source": [
    "## sum of a 2D array\n",
    "sum = np.sum(array_2d)\n",
    "print(\"Sum of 2D array:\", sum)"
   ]
  },
  {
   "cell_type": "code",
   "execution_count": 289,
   "metadata": {},
   "outputs": [
    {
     "name": "stdout",
     "output_type": "stream",
     "text": [
      "Sum of 2D array along columns: [ 4 15]\n"
     ]
    }
   ],
   "source": [
    "## sum of a 2D array along columns\n",
    "sum = np.sum(array_2d, axis=1)\n",
    "print(\"Sum of 2D array along columns:\", sum)"
   ]
  },
  {
   "cell_type": "code",
   "execution_count": 290,
   "metadata": {},
   "outputs": [
    {
     "name": "stdout",
     "output_type": "stream",
     "text": [
      "Sum of 2D array along rows: [3 7 9]\n"
     ]
    }
   ],
   "source": [
    "## sum of a 2D array along rows\n",
    "sum = np.sum(array_2d, axis=0)\n",
    "print(\"Sum of 2D array along rows:\", sum)"
   ]
  },
  {
   "cell_type": "markdown",
   "metadata": {},
   "source": [
    "#### Cumulative Sum"
   ]
  },
  {
   "cell_type": "code",
   "execution_count": 291,
   "metadata": {},
   "outputs": [
    {
     "name": "stdout",
     "output_type": "stream",
     "text": [
      "Cummulative sum of 1D array: [ 1  3  6 10 15]\n"
     ]
    }
   ],
   "source": [
    "## cummulative sum of a 1D array\n",
    "cum_sum = np.cumsum(array_1d)\n",
    "print(\"Cummulative sum of 1D array:\", cum_sum)"
   ]
  },
  {
   "cell_type": "code",
   "execution_count": 292,
   "metadata": {},
   "outputs": [
    {
     "name": "stdout",
     "output_type": "stream",
     "text": [
      "Cummulative sum of 2D array: [-1  1  4  8 13 19]\n"
     ]
    }
   ],
   "source": [
    "## cummulative sum of a 2D array\n",
    "cum_sum = np.cumsum(array_2d)\n",
    "print(\"Cummulative sum of 2D array:\", cum_sum)"
   ]
  },
  {
   "cell_type": "code",
   "execution_count": 293,
   "metadata": {},
   "outputs": [
    {
     "name": "stdout",
     "output_type": "stream",
     "text": [
      "Cummulative sum of 2D array along columns: [[-1  1  4]\n",
      " [ 4  9 15]]\n"
     ]
    }
   ],
   "source": [
    "## cummulative sum of a 2D array along columns\n",
    "cum_sum = np.cumsum(array_2d, axis=1)\n",
    "print(\"Cummulative sum of 2D array along columns:\", cum_sum)"
   ]
  },
  {
   "cell_type": "code",
   "execution_count": 294,
   "metadata": {},
   "outputs": [
    {
     "name": "stdout",
     "output_type": "stream",
     "text": [
      "Cummulative sum of 2D array along rows: [[-1  2  3]\n",
      " [ 3  7  9]]\n"
     ]
    }
   ],
   "source": [
    "## cummulative sum of a 2D array along rows\n",
    "cum_sum = np.cumsum(array_2d, axis=0)\n",
    "print(\"Cummulative sum of 2D array along rows:\", cum_sum)"
   ]
  },
  {
   "cell_type": "markdown",
   "metadata": {},
   "source": [
    "### Sorting & Searching"
   ]
  },
  {
   "cell_type": "markdown",
   "metadata": {},
   "source": [
    "#### Sorting"
   ]
  },
  {
   "cell_type": "code",
   "execution_count": 295,
   "metadata": {},
   "outputs": [
    {
     "name": "stdout",
     "output_type": "stream",
     "text": [
      "Original array: [3 2 1 4 5]\n",
      "Sorted array: [1 2 3 4 5]\n"
     ]
    }
   ],
   "source": [
    "## sorting 1D array\n",
    "array = np.array([3, 2, 1, 4, 5])\n",
    "sorted_array = np.sort(array)\n",
    "print(\"Original array:\", array)\n",
    "print(\"Sorted array:\", sorted_array)"
   ]
  },
  {
   "cell_type": "code",
   "execution_count": 296,
   "metadata": {},
   "outputs": [
    {
     "name": "stdout",
     "output_type": "stream",
     "text": [
      "Original array:\n",
      " [[3 2 1]\n",
      " [4 5 6]]\n",
      "Sorted array:\n",
      " [[1 2 3]\n",
      " [4 5 6]]\n"
     ]
    }
   ],
   "source": [
    "## sorting 2D array\n",
    "array = np.array([[3, 2, 1], [4, 5, 6]])\n",
    "sorted_array = np.sort(array)\n",
    "print(\"Original array:\\n\", array)\n",
    "print(\"Sorted array:\\n\", sorted_array)"
   ]
  },
  {
   "cell_type": "code",
   "execution_count": 297,
   "metadata": {},
   "outputs": [
    {
     "name": "stdout",
     "output_type": "stream",
     "text": [
      "Original array:\n",
      " [[3 2 1]\n",
      " [4 5 6]]\n",
      "Sorted array along columns:\n",
      " [[1 2 3]\n",
      " [4 5 6]]\n"
     ]
    }
   ],
   "source": [
    "## sorting 2D array along columns\n",
    "array = np.array([[3, 2, 1], [4, 5, 6]])\n",
    "sorted_array = np.sort(array, axis=1)\n",
    "print(\"Original array:\\n\", array)\n",
    "print(\"Sorted array along columns:\\n\", sorted_array)\n"
   ]
  },
  {
   "cell_type": "code",
   "execution_count": 298,
   "metadata": {},
   "outputs": [
    {
     "name": "stdout",
     "output_type": "stream",
     "text": [
      "Original array:\n",
      " [[3 2 1]\n",
      " [4 5 6]]\n",
      "Sorted array along rows:\n",
      " [[3 2 1]\n",
      " [4 5 6]]\n"
     ]
    }
   ],
   "source": [
    "## sorting 2D array along rows\n",
    "array = np.array([[3, 2, 1], [4, 5, 6]])\n",
    "sorted_array = np.sort(array, axis=0)\n",
    "print(\"Original array:\\n\", array)\n",
    "print(\"Sorted array along rows:\\n\", sorted_array)"
   ]
  },
  {
   "cell_type": "markdown",
   "metadata": {},
   "source": [
    "#### Searching"
   ]
  },
  {
   "cell_type": "code",
   "execution_count": 299,
   "metadata": {},
   "outputs": [
    {
     "name": "stdout",
     "output_type": "stream",
     "text": [
      "Original array: [1 2 3 4 5]\n",
      "Index of 3: (array([2]),)\n"
     ]
    }
   ],
   "source": [
    "## Searching for an element in a 1D array\n",
    "array = np.array([1, 2, 3, 4, 5])\n",
    "## search for 3 in the array\n",
    "index = np.where(array == 3)\n",
    "print(\"Original array:\", array)\n",
    "print(\"Index of 3:\", index)"
   ]
  },
  {
   "cell_type": "code",
   "execution_count": 300,
   "metadata": {},
   "outputs": [
    {
     "name": "stdout",
     "output_type": "stream",
     "text": [
      "Original array:\n",
      " [[1 2 3]\n",
      " [4 5 6]]\n",
      "Index of 3: (array([0]), array([2]))\n"
     ]
    }
   ],
   "source": [
    "## Searching for an element in a 2D array\n",
    "array = np.array([[1, 2, 3], [4, 5, 6]])\n",
    "## search for 3 in the array\n",
    "index = np.where(array == 3)\n",
    "print(\"Original array:\\n\", array)\n",
    "print(\"Index of 3:\", index)"
   ]
  },
  {
   "cell_type": "code",
   "execution_count": 301,
   "metadata": {},
   "outputs": [
    {
     "name": "stdout",
     "output_type": "stream",
     "text": [
      "Original array: [1 2 3 4 5 3]\n",
      "Index of 3: (array([2, 5]),)\n"
     ]
    }
   ],
   "source": [
    "## search with duplicates\n",
    "array = np.array([1, 2, 3, 4, 5, 3])\n",
    "## search for 3 in the array\n",
    "index = np.where(array == 3)\n",
    "print(\"Original array:\", array)\n",
    "print(\"Index of 3:\", index)"
   ]
  },
  {
   "cell_type": "markdown",
   "metadata": {},
   "source": [
    "#### Find min/max index"
   ]
  },
  {
   "cell_type": "code",
   "execution_count": 302,
   "metadata": {},
   "outputs": [
    {
     "name": "stdout",
     "output_type": "stream",
     "text": [
      "Original array: [1 2 3 4 5]\n",
      "Index of minimum value: 0\n",
      "Index of maximum value: 4\n"
     ]
    }
   ],
   "source": [
    "## search for min/max value index in a 1D array\n",
    "array = np.array([1, 2, 3, 4, 5])\n",
    "## index of minimum value\n",
    "min_index = np.argmin(array)\n",
    "## index of maximum value\n",
    "max_index = np.argmax(array)\n",
    "print(\"Original array:\", array)\n",
    "print(\"Index of minimum value:\", min_index)\n",
    "print(\"Index of maximum value:\", max_index)"
   ]
  },
  {
   "cell_type": "code",
   "execution_count": 303,
   "metadata": {},
   "outputs": [
    {
     "name": "stdout",
     "output_type": "stream",
     "text": [
      "Original array:\n",
      " [[1 2 3]\n",
      " [4 5 6]]\n",
      "Index of minimum value: 0\n",
      "Index of maximum value: 5\n"
     ]
    }
   ],
   "source": [
    "## search for min/max value index in a 2D array\n",
    "array = np.array([[1, 2, 3], [4, 5, 6]])\n",
    "## index of minimum value\n",
    "min_index = np.argmin(array)\n",
    "## index of maximum value\n",
    "max_index = np.argmax(array)\n",
    "print(\"Original array:\\n\", array)\n",
    "print(\"Index of minimum value:\", min_index)\n",
    "print(\"Index of maximum value:\", max_index)\n"
   ]
  },
  {
   "cell_type": "code",
   "execution_count": 304,
   "metadata": {},
   "outputs": [
    {
     "name": "stdout",
     "output_type": "stream",
     "text": [
      "Original array:\n",
      " [[1 2 3]\n",
      " [4 5 6]]\n",
      "Index of minimum value along columns: [0 0]\n",
      "Index of maximum value along columns: [2 2]\n"
     ]
    }
   ],
   "source": [
    "## search for min/max value index in a 2D array along columns\n",
    "array = np.array([[1, 2, 3], [4, 5, 6]])\n",
    "## index of minimum value along columns\n",
    "min_index = np.argmin(array, axis=1)\n",
    "## index of maximum value along columns\n",
    "max_index = np.argmax(array, axis=1)\n",
    "print(\"Original array:\\n\", array)\n",
    "print(\"Index of minimum value along columns:\", min_index)\n",
    "print(\"Index of maximum value along columns:\", max_index)\n"
   ]
  },
  {
   "cell_type": "code",
   "execution_count": 305,
   "metadata": {},
   "outputs": [
    {
     "name": "stdout",
     "output_type": "stream",
     "text": [
      "Original array:\n",
      " [[1 2 3]\n",
      " [4 5 6]]\n",
      "Index of minimum value along rows: [0 0 0]\n",
      "Index of maximum value along rows: [1 1 1]\n"
     ]
    }
   ],
   "source": [
    "## search for min/max value index in a 2D array along rows\n",
    "array = np.array([[1, 2, 3], [4, 5, 6]])\n",
    "## index of minimum value along rows\n",
    "min_index = np.argmin(array, axis=0)\n",
    "## index of maximum value along rows\n",
    "max_index = np.argmax(array, axis=0)\n",
    "print(\"Original array:\\n\", array)\n",
    "print(\"Index of minimum value along rows:\", min_index)\n",
    "print(\"Index of maximum value along rows:\", max_index)\n"
   ]
  },
  {
   "cell_type": "markdown",
   "metadata": {},
   "source": [
    "## Helpful Functions"
   ]
  },
  {
   "cell_type": "markdown",
   "metadata": {},
   "source": [
    "### Copying Arrays"
   ]
  },
  {
   "cell_type": "markdown",
   "metadata": {},
   "source": [
    "### Comparing Array Elements using isclose()"
   ]
  },
  {
   "cell_type": "markdown",
   "metadata": {},
   "source": [
    "### Converting Array Elment Types"
   ]
  },
  {
   "cell_type": "markdown",
   "metadata": {},
   "source": [
    "## Linear Equations as Matrices "
   ]
  },
  {
   "cell_type": "markdown",
   "metadata": {},
   "source": [
    "### Evaluating Determinant"
   ]
  },
  {
   "cell_type": "markdown",
   "metadata": {},
   "source": [
    "### Solving Linear Equations"
   ]
  },
  {
   "cell_type": "markdown",
   "metadata": {},
   "source": [
    "## Finding Eigenvalues and Eigenvectors"
   ]
  },
  {
   "cell_type": "markdown",
   "metadata": {},
   "source": [
    "## Create Covariance Matrix"
   ]
  },
  {
   "cell_type": "markdown",
   "metadata": {},
   "source": [
    "## Finding Inverse of a Matrix"
   ]
  },
  {
   "cell_type": "markdown",
   "metadata": {},
   "source": [
    "## Image Handling"
   ]
  }
 ],
 "metadata": {
  "kernelspec": {
   "display_name": "ml",
   "language": "python",
   "name": "python3"
  },
  "language_info": {
   "codemirror_mode": {
    "name": "ipython",
    "version": 3
   },
   "file_extension": ".py",
   "mimetype": "text/x-python",
   "name": "python",
   "nbconvert_exporter": "python",
   "pygments_lexer": "ipython3",
   "version": "3.12.4"
  }
 },
 "nbformat": 4,
 "nbformat_minor": 4
}
